{
 "cells": [
  {
   "cell_type": "markdown",
   "metadata": {},
   "source": [
    "# Merging data and regression analysis\n",
    "\n",
    "* importing vehicle data and nitrogen data as preprocessed pandas dataframes\n",
    "* creating columns to merge on as well as mergin\n",
    "* applying linear and non linear regression models"
   ]
  },
  {
   "cell_type": "code",
   "execution_count": 1,
   "metadata": {},
   "outputs": [],
   "source": [
    "import pandas as pd\n",
    "import numpy as np\n",
    "import matplotlib.pyplot as plt\n",
    "import glob\n",
    "%matplotlib inline"
   ]
  },
  {
   "cell_type": "markdown",
   "metadata": {},
   "source": [
    "#### Load vehicle dataset"
   ]
  },
  {
   "cell_type": "code",
   "execution_count": 2,
   "metadata": {},
   "outputs": [],
   "source": [
    "df = pd.read_pickle(\"kfz_data.pkl\")"
   ]
  },
  {
   "cell_type": "markdown",
   "metadata": {},
   "source": [
    "#### Load nitrogen dataset"
   ]
  },
  {
   "cell_type": "code",
   "execution_count": 3,
   "metadata": {},
   "outputs": [],
   "source": [
    "stickstoff = pd.read_pickle(\"stickstoff_daten.pkl\")"
   ]
  },
  {
   "cell_type": "markdown",
   "metadata": {},
   "source": [
    "To merge both datasets a shared column must be created. Our goal is to match vehicles registered in certain locations with the nitrogen measured in the air in that specific region. As well as be able to seperate the data by years.\n",
    "\n",
    "* compare vehicle \"ort\" values with nitrogen \"name\""
   ]
  },
  {
   "cell_type": "code",
   "execution_count": 4,
   "metadata": {},
   "outputs": [
    {
     "data": {
      "text/html": [
       "<div>\n",
       "<style scoped>\n",
       "    .dataframe tbody tr th:only-of-type {\n",
       "        vertical-align: middle;\n",
       "    }\n",
       "\n",
       "    .dataframe tbody tr th {\n",
       "        vertical-align: top;\n",
       "    }\n",
       "\n",
       "    .dataframe thead th {\n",
       "        text-align: right;\n",
       "    }\n",
       "</style>\n",
       "<table border=\"1\" class=\"dataframe\">\n",
       "  <thead>\n",
       "    <tr style=\"text-align: right;\">\n",
       "      <th></th>\n",
       "      <th>jahr</th>\n",
       "      <th>bundesland</th>\n",
       "      <th>rb</th>\n",
       "      <th>Stadt</th>\n",
       "      <th>Insgesamt</th>\n",
       "      <th>Benzin</th>\n",
       "      <th>Diesel</th>\n",
       "      <th>kennzahl</th>\n",
       "      <th>ort</th>\n",
       "      <th>split</th>\n",
       "    </tr>\n",
       "  </thead>\n",
       "  <tbody>\n",
       "    <tr>\n",
       "      <th>0</th>\n",
       "      <td>2012</td>\n",
       "      <td>SCHLESWIG-HOLSTEIN</td>\n",
       "      <td></td>\n",
       "      <td>01001  FLENSBURG,STADT</td>\n",
       "      <td>39433</td>\n",
       "      <td>26375</td>\n",
       "      <td>12601</td>\n",
       "      <td>01001</td>\n",
       "      <td>FLENSBURG,STADT</td>\n",
       "      <td>FLENSBURG</td>\n",
       "    </tr>\n",
       "    <tr>\n",
       "      <th>1</th>\n",
       "      <td>2012</td>\n",
       "      <td>SCHLESWIG-HOLSTEIN</td>\n",
       "      <td></td>\n",
       "      <td>01002  KIEL,STADT</td>\n",
       "      <td>99724</td>\n",
       "      <td>71185</td>\n",
       "      <td>27538</td>\n",
       "      <td>01002</td>\n",
       "      <td>KIEL,STADT</td>\n",
       "      <td>KIEL</td>\n",
       "    </tr>\n",
       "    <tr>\n",
       "      <th>2</th>\n",
       "      <td>2012</td>\n",
       "      <td>SCHLESWIG-HOLSTEIN</td>\n",
       "      <td></td>\n",
       "      <td>01003  LUEBECK,STADT</td>\n",
       "      <td>89654</td>\n",
       "      <td>65879</td>\n",
       "      <td>22799</td>\n",
       "      <td>01003</td>\n",
       "      <td>LUEBECK,STADT</td>\n",
       "      <td>LUEBECK</td>\n",
       "    </tr>\n",
       "    <tr>\n",
       "      <th>3</th>\n",
       "      <td>2012</td>\n",
       "      <td>SCHLESWIG-HOLSTEIN</td>\n",
       "      <td></td>\n",
       "      <td>01004  NEUMUENSTER,STADT</td>\n",
       "      <td>37974</td>\n",
       "      <td>27051</td>\n",
       "      <td>10435</td>\n",
       "      <td>01004</td>\n",
       "      <td>NEUMUENSTER,STADT</td>\n",
       "      <td>NEUMUENSTER</td>\n",
       "    </tr>\n",
       "    <tr>\n",
       "      <th>4</th>\n",
       "      <td>2012</td>\n",
       "      <td>SCHLESWIG-HOLSTEIN</td>\n",
       "      <td></td>\n",
       "      <td>01051  DITHMARSCHEN</td>\n",
       "      <td>72836</td>\n",
       "      <td>48921</td>\n",
       "      <td>23173</td>\n",
       "      <td>01051</td>\n",
       "      <td>DITHMARSCHEN</td>\n",
       "      <td>DITHMARSCHEN</td>\n",
       "    </tr>\n",
       "  </tbody>\n",
       "</table>\n",
       "</div>"
      ],
      "text/plain": [
       "   jahr          bundesland rb                     Stadt  Insgesamt  Benzin  \\\n",
       "0  2012  SCHLESWIG-HOLSTEIN       01001  FLENSBURG,STADT      39433   26375   \n",
       "1  2012  SCHLESWIG-HOLSTEIN            01002  KIEL,STADT      99724   71185   \n",
       "2  2012  SCHLESWIG-HOLSTEIN         01003  LUEBECK,STADT      89654   65879   \n",
       "3  2012  SCHLESWIG-HOLSTEIN     01004  NEUMUENSTER,STADT      37974   27051   \n",
       "4  2012  SCHLESWIG-HOLSTEIN          01051  DITHMARSCHEN      72836   48921   \n",
       "\n",
       "   Diesel kennzahl                ort         split  \n",
       "0   12601    01001    FLENSBURG,STADT     FLENSBURG  \n",
       "1   27538    01002         KIEL,STADT          KIEL  \n",
       "2   22799    01003      LUEBECK,STADT       LUEBECK  \n",
       "3   10435    01004  NEUMUENSTER,STADT   NEUMUENSTER  \n",
       "4   23173    01051       DITHMARSCHEN  DITHMARSCHEN  "
      ]
     },
     "execution_count": 4,
     "metadata": {},
     "output_type": "execute_result"
    }
   ],
   "source": [
    "df.head()"
   ]
  },
  {
   "cell_type": "code",
   "execution_count": 5,
   "metadata": {},
   "outputs": [
    {
     "data": {
      "text/html": [
       "<div>\n",
       "<style scoped>\n",
       "    .dataframe tbody tr th:only-of-type {\n",
       "        vertical-align: middle;\n",
       "    }\n",
       "\n",
       "    .dataframe tbody tr th {\n",
       "        vertical-align: top;\n",
       "    }\n",
       "\n",
       "    .dataframe thead th {\n",
       "        text-align: right;\n",
       "    }\n",
       "</style>\n",
       "<table border=\"1\" class=\"dataframe\">\n",
       "  <thead>\n",
       "    <tr style=\"text-align: right;\">\n",
       "      <th></th>\n",
       "      <th>bundesland</th>\n",
       "      <th>jahr</th>\n",
       "      <th>station</th>\n",
       "      <th>name</th>\n",
       "      <th>umgebungstyp</th>\n",
       "      <th>emissionstyp</th>\n",
       "      <th>jahresmittel</th>\n",
       "      <th>maxstundenwert</th>\n",
       "      <th>umgebungstyp_grob</th>\n",
       "    </tr>\n",
       "  </thead>\n",
       "  <tbody>\n",
       "    <tr>\n",
       "      <th>0</th>\n",
       "      <td>BRANDENBURG</td>\n",
       "      <td>2002</td>\n",
       "      <td>'DEBB001'</td>\n",
       "      <td>BURG (SPREEWALD)</td>\n",
       "      <td>vorstädtisches Gebiet</td>\n",
       "      <td>Hintergrund</td>\n",
       "      <td>10.0</td>\n",
       "      <td>69</td>\n",
       "      <td>vorstädtisch</td>\n",
       "    </tr>\n",
       "    <tr>\n",
       "      <th>1</th>\n",
       "      <td>BRANDENBURG</td>\n",
       "      <td>2002</td>\n",
       "      <td>'DEBB006'</td>\n",
       "      <td>COTTBUS-SÜD</td>\n",
       "      <td>städtisches Gebiet</td>\n",
       "      <td>Hintergrund</td>\n",
       "      <td>19.0</td>\n",
       "      <td>107</td>\n",
       "      <td>städtisch</td>\n",
       "    </tr>\n",
       "    <tr>\n",
       "      <th>2</th>\n",
       "      <td>BRANDENBURG</td>\n",
       "      <td>2002</td>\n",
       "      <td>'DEBB009'</td>\n",
       "      <td>FORST</td>\n",
       "      <td>vorstädtisches Gebiet</td>\n",
       "      <td>Hintergrund</td>\n",
       "      <td>16.0</td>\n",
       "      <td>83</td>\n",
       "      <td>vorstädtisch</td>\n",
       "    </tr>\n",
       "    <tr>\n",
       "      <th>3</th>\n",
       "      <td>BRANDENBURG</td>\n",
       "      <td>2002</td>\n",
       "      <td>'DEBB021'</td>\n",
       "      <td>POTSDAM-ZENTRUM</td>\n",
       "      <td>städtisches Gebiet</td>\n",
       "      <td>Hintergrund</td>\n",
       "      <td>21.0</td>\n",
       "      <td>111</td>\n",
       "      <td>städtisch</td>\n",
       "    </tr>\n",
       "    <tr>\n",
       "      <th>4</th>\n",
       "      <td>BRANDENBURG</td>\n",
       "      <td>2002</td>\n",
       "      <td>'DEBB024'</td>\n",
       "      <td>SENFTENBERG</td>\n",
       "      <td>städtisches Gebiet</td>\n",
       "      <td>Hintergrund</td>\n",
       "      <td>19.0</td>\n",
       "      <td>113</td>\n",
       "      <td>städtisch</td>\n",
       "    </tr>\n",
       "  </tbody>\n",
       "</table>\n",
       "</div>"
      ],
      "text/plain": [
       "    bundesland  jahr    station              name           umgebungstyp  \\\n",
       "0  BRANDENBURG  2002  'DEBB001'  BURG (SPREEWALD)  vorstädtisches Gebiet   \n",
       "1  BRANDENBURG  2002  'DEBB006'       COTTBUS-SÜD     städtisches Gebiet   \n",
       "2  BRANDENBURG  2002  'DEBB009'             FORST  vorstädtisches Gebiet   \n",
       "3  BRANDENBURG  2002  'DEBB021'   POTSDAM-ZENTRUM     städtisches Gebiet   \n",
       "4  BRANDENBURG  2002  'DEBB024'      SENFTENBERG      städtisches Gebiet   \n",
       "\n",
       "  emissionstyp  jahresmittel maxstundenwert umgebungstyp_grob  \n",
       "0  Hintergrund          10.0             69      vorstädtisch  \n",
       "1  Hintergrund          19.0            107         städtisch  \n",
       "2  Hintergrund          16.0             83      vorstädtisch  \n",
       "3  Hintergrund          21.0            111         städtisch  \n",
       "4  Hintergrund          19.0            113         städtisch  "
      ]
     },
     "execution_count": 5,
     "metadata": {},
     "output_type": "execute_result"
    }
   ],
   "source": [
    "stickstoff.head()"
   ]
  },
  {
   "cell_type": "markdown",
   "metadata": {},
   "source": [
    "\"Name\" seems to often contain the city name as the first word. \"Ort\" also often does the same.\n",
    "By creating a new column containing only the first word of these location data we might be able to match the sets based on location.\n",
    "\n",
    "* get only first \"word\" from stickstoff.name and kraftsplit.ort \n",
    "* for merging\n",
    "* try to split by ' ', '-', '/', ',' to always get first word"
   ]
  },
  {
   "cell_type": "code",
   "execution_count": 6,
   "metadata": {},
   "outputs": [],
   "source": [
    "sticksplit = stickstoff[\"name\"].str.split(\" \").str[0].str.split(\"-\").str[0].str.split(\"/\").str[0].str.split(\",\").str[0]"
   ]
  },
  {
   "cell_type": "code",
   "execution_count": 7,
   "metadata": {},
   "outputs": [],
   "source": [
    "kraftsplit = df[\"ort\"].str.split(\" \").str[0].str.split(\"-\").str[0].str.split(\"/\").str[0].str.split(\",\").str[0]"
   ]
  },
  {
   "cell_type": "markdown",
   "metadata": {},
   "source": [
    "* try to match the new series objects sticksplit and kraftsplit\n",
    "* count matches and non matches"
   ]
  },
  {
   "cell_type": "code",
   "execution_count": 8,
   "metadata": {},
   "outputs": [],
   "source": [
    "match = 0\n",
    "no_match = 0\n",
    "count = 0\n",
    "\n",
    "isin = False\n",
    "for index, row in sticksplit.iteritems():\n",
    "    isin = False\n",
    "    for index2, row2 in kraftsplit.iteritems():\n",
    "        if row == row2:\n",
    "            isin = True\n",
    "            #print(row, row2)\n",
    "    if isin:\n",
    "        match+=1\n",
    "        count += 1\n",
    "    else:\n",
    "        no_match +=1"
   ]
  },
  {
   "cell_type": "code",
   "execution_count": 9,
   "metadata": {},
   "outputs": [
    {
     "data": {
      "text/plain": [
       "4344"
      ]
     },
     "execution_count": 9,
     "metadata": {},
     "output_type": "execute_result"
    }
   ],
   "source": [
    "match"
   ]
  },
  {
   "cell_type": "code",
   "execution_count": 10,
   "metadata": {
    "scrolled": true
   },
   "outputs": [
    {
     "data": {
      "text/plain": [
       "4341"
      ]
     },
     "execution_count": 10,
     "metadata": {},
     "output_type": "execute_result"
    }
   ],
   "source": [
    "no_match"
   ]
  },
  {
   "cell_type": "markdown",
   "metadata": {},
   "source": [
    "Repeat the same for the other way around:"
   ]
  },
  {
   "cell_type": "code",
   "execution_count": 11,
   "metadata": {},
   "outputs": [
    {
     "name": "stdout",
     "output_type": "stream",
     "text": [
      "1329\n",
      "1876\n"
     ]
    }
   ],
   "source": [
    "match = 0\n",
    "no_match = 0\n",
    "count = 0\n",
    "\n",
    "isin = False\n",
    "for index, row in kraftsplit.iteritems():\n",
    "    isin = False\n",
    "    for index2, row2 in sticksplit.iteritems():\n",
    "        if row == row2:\n",
    "            isin = True\n",
    "            #print(row, row2)\n",
    "    if isin:\n",
    "        match+=1\n",
    "        count += 1\n",
    "    else:\n",
    "        no_match +=1\n",
    "\n",
    "print(match)\n",
    "print(no_match)"
   ]
  },
  {
   "cell_type": "markdown",
   "metadata": {},
   "source": [
    "We find that the majority of data from both datasets can be matched by location via the 'split series'.\n",
    "This will suffice for our analysis, as we are only looking for averages."
   ]
  },
  {
   "cell_type": "code",
   "execution_count": 12,
   "metadata": {},
   "outputs": [
    {
     "data": {
      "text/plain": [
       "0           BURG\n",
       "1        COTTBUS\n",
       "2          FORST\n",
       "3        POTSDAM\n",
       "4    SENFTENBERG\n",
       "Name: name, dtype: object"
      ]
     },
     "execution_count": 12,
     "metadata": {},
     "output_type": "execute_result"
    }
   ],
   "source": [
    "sticksplit.head()"
   ]
  },
  {
   "cell_type": "code",
   "execution_count": 13,
   "metadata": {},
   "outputs": [
    {
     "data": {
      "text/plain": [
       "0       FLENSBURG\n",
       "1            KIEL\n",
       "2         LUEBECK\n",
       "3     NEUMUENSTER\n",
       "4    DITHMARSCHEN\n",
       "Name: ort, dtype: object"
      ]
     },
     "execution_count": 13,
     "metadata": {},
     "output_type": "execute_result"
    }
   ],
   "source": [
    "kraftsplit.head()"
   ]
  },
  {
   "cell_type": "markdown",
   "metadata": {},
   "source": [
    "* Now create new columns in both dataframe for the matching location parameter and call it \"split\" respectively."
   ]
  },
  {
   "cell_type": "code",
   "execution_count": 14,
   "metadata": {},
   "outputs": [],
   "source": [
    "stickstoff[\"split\"] = sticksplit\n",
    "df[\"split\"] = kraftsplit"
   ]
  },
  {
   "cell_type": "markdown",
   "metadata": {},
   "source": [
    "* adjust column names so they match across dataframes"
   ]
  },
  {
   "cell_type": "code",
   "execution_count": 15,
   "metadata": {},
   "outputs": [],
   "source": [
    "df.rename(columns={\"land\":\"bundesland\", \"year\":\"jahr\"}, inplace=True)\n",
    "stickstoff[\"jahr\"] = pd.to_numeric(stickstoff[\"jahr\"])"
   ]
  },
  {
   "cell_type": "markdown",
   "metadata": {},
   "source": [
    "#### Merge data\n",
    "* 'inner join' dataframes on the columns \"jahr\", \"bundesland\", \"split\"\n",
    "* all rows will be able to match via \"jahr\" and \"bundesland\"\n",
    "* rows that dont match via \"split\" will not be included"
   ]
  },
  {
   "cell_type": "code",
   "execution_count": 16,
   "metadata": {},
   "outputs": [],
   "source": [
    "result = pd.merge(left=stickstoff, right=df, on=[\"jahr\", \"bundesland\", \"split\"])"
   ]
  },
  {
   "cell_type": "code",
   "execution_count": 17,
   "metadata": {},
   "outputs": [
    {
     "data": {
      "text/plain": [
       "(2523, 17)"
      ]
     },
     "execution_count": 17,
     "metadata": {},
     "output_type": "execute_result"
    }
   ],
   "source": [
    "result.shape"
   ]
  },
  {
   "cell_type": "code",
   "execution_count": 19,
   "metadata": {
    "scrolled": true
   },
   "outputs": [
    {
     "data": {
      "text/html": [
       "<div>\n",
       "<style scoped>\n",
       "    .dataframe tbody tr th:only-of-type {\n",
       "        vertical-align: middle;\n",
       "    }\n",
       "\n",
       "    .dataframe tbody tr th {\n",
       "        vertical-align: top;\n",
       "    }\n",
       "\n",
       "    .dataframe thead th {\n",
       "        text-align: right;\n",
       "    }\n",
       "</style>\n",
       "<table border=\"1\" class=\"dataframe\">\n",
       "  <thead>\n",
       "    <tr style=\"text-align: right;\">\n",
       "      <th></th>\n",
       "      <th>bundesland</th>\n",
       "      <th>jahr</th>\n",
       "      <th>station</th>\n",
       "      <th>name</th>\n",
       "      <th>umgebungstyp</th>\n",
       "      <th>emissionstyp</th>\n",
       "      <th>jahresmittel</th>\n",
       "      <th>maxstundenwert</th>\n",
       "      <th>umgebungstyp_grob</th>\n",
       "      <th>split</th>\n",
       "      <th>rb</th>\n",
       "      <th>Stadt</th>\n",
       "      <th>Insgesamt</th>\n",
       "      <th>Benzin</th>\n",
       "      <th>Diesel</th>\n",
       "      <th>kennzahl</th>\n",
       "      <th>ort</th>\n",
       "    </tr>\n",
       "  </thead>\n",
       "  <tbody>\n",
       "    <tr>\n",
       "      <th>0</th>\n",
       "      <td>BADEN-WUERTTEMBERG</td>\n",
       "      <td>2012</td>\n",
       "      <td>DEBW076</td>\n",
       "      <td>BADEN-BADEN</td>\n",
       "      <td>vorstädtisches Gebiet</td>\n",
       "      <td>Hintergrund</td>\n",
       "      <td>15.0</td>\n",
       "      <td>0</td>\n",
       "      <td>vorstädtisch</td>\n",
       "      <td>BADEN</td>\n",
       "      <td>KARLSRUHE</td>\n",
       "      <td>08211  BADEN-BADEN,STADT</td>\n",
       "      <td>31179</td>\n",
       "      <td>21411</td>\n",
       "      <td>9555</td>\n",
       "      <td>08211</td>\n",
       "      <td>BADEN-BADEN,STADT</td>\n",
       "    </tr>\n",
       "    <tr>\n",
       "      <th>1</th>\n",
       "      <td>BADEN-WUERTTEMBERG</td>\n",
       "      <td>2012</td>\n",
       "      <td>DEBW046</td>\n",
       "      <td>BIBERACH</td>\n",
       "      <td>vorstädtisches Gebiet</td>\n",
       "      <td>Hintergrund</td>\n",
       "      <td>19.0</td>\n",
       "      <td>0</td>\n",
       "      <td>vorstädtisch</td>\n",
       "      <td>BIBERACH</td>\n",
       "      <td>TUEBINGEN</td>\n",
       "      <td>08426  BIBERACH</td>\n",
       "      <td>110593</td>\n",
       "      <td>72949</td>\n",
       "      <td>36744</td>\n",
       "      <td>08426</td>\n",
       "      <td>BIBERACH</td>\n",
       "    </tr>\n",
       "    <tr>\n",
       "      <th>2</th>\n",
       "      <td>BADEN-WUERTTEMBERG</td>\n",
       "      <td>2012</td>\n",
       "      <td>DEBW084</td>\n",
       "      <td>FREIBURG</td>\n",
       "      <td>städtisches Gebiet</td>\n",
       "      <td>Hintergrund</td>\n",
       "      <td>19.0</td>\n",
       "      <td>0</td>\n",
       "      <td>städtisch</td>\n",
       "      <td>FREIBURG</td>\n",
       "      <td>FREIBURG</td>\n",
       "      <td>08311  FREIBURG I.BREISG.STADT</td>\n",
       "      <td>85591</td>\n",
       "      <td>56824</td>\n",
       "      <td>27764</td>\n",
       "      <td>08311</td>\n",
       "      <td>FREIBURG I.BREISG.STADT</td>\n",
       "    </tr>\n",
       "    <tr>\n",
       "      <th>3</th>\n",
       "      <td>BADEN-WUERTTEMBERG</td>\n",
       "      <td>2012</td>\n",
       "      <td>DEBW122</td>\n",
       "      <td>FREIBURG SCHWARZWALDSTRASSE (V)</td>\n",
       "      <td>städtisches Gebiet</td>\n",
       "      <td>Verkehr</td>\n",
       "      <td>65.0</td>\n",
       "      <td>0</td>\n",
       "      <td>städtisch</td>\n",
       "      <td>FREIBURG</td>\n",
       "      <td>FREIBURG</td>\n",
       "      <td>08311  FREIBURG I.BREISG.STADT</td>\n",
       "      <td>85591</td>\n",
       "      <td>56824</td>\n",
       "      <td>27764</td>\n",
       "      <td>08311</td>\n",
       "      <td>FREIBURG I.BREISG.STADT</td>\n",
       "    </tr>\n",
       "    <tr>\n",
       "      <th>4</th>\n",
       "      <td>BADEN-WUERTTEMBERG</td>\n",
       "      <td>2012</td>\n",
       "      <td>DEBW127</td>\n",
       "      <td>FREIBURG ZÄHRINGER STRASSE (S)</td>\n",
       "      <td>städtisches Gebiet</td>\n",
       "      <td>Verkehr</td>\n",
       "      <td>50.0</td>\n",
       "      <td>---</td>\n",
       "      <td>städtisch</td>\n",
       "      <td>FREIBURG</td>\n",
       "      <td>FREIBURG</td>\n",
       "      <td>08311  FREIBURG I.BREISG.STADT</td>\n",
       "      <td>85591</td>\n",
       "      <td>56824</td>\n",
       "      <td>27764</td>\n",
       "      <td>08311</td>\n",
       "      <td>FREIBURG I.BREISG.STADT</td>\n",
       "    </tr>\n",
       "  </tbody>\n",
       "</table>\n",
       "</div>"
      ],
      "text/plain": [
       "           bundesland  jahr  station                             name  \\\n",
       "0  BADEN-WUERTTEMBERG  2012  DEBW076                      BADEN-BADEN   \n",
       "1  BADEN-WUERTTEMBERG  2012  DEBW046                         BIBERACH   \n",
       "2  BADEN-WUERTTEMBERG  2012  DEBW084                         FREIBURG   \n",
       "3  BADEN-WUERTTEMBERG  2012  DEBW122  FREIBURG SCHWARZWALDSTRASSE (V)   \n",
       "4  BADEN-WUERTTEMBERG  2012  DEBW127   FREIBURG ZÄHRINGER STRASSE (S)   \n",
       "\n",
       "            umgebungstyp emissionstyp  jahresmittel maxstundenwert  \\\n",
       "0  vorstädtisches Gebiet  Hintergrund          15.0              0   \n",
       "1  vorstädtisches Gebiet  Hintergrund          19.0              0   \n",
       "2     städtisches Gebiet  Hintergrund          19.0              0   \n",
       "3     städtisches Gebiet      Verkehr          65.0              0   \n",
       "4     städtisches Gebiet      Verkehr          50.0            ---   \n",
       "\n",
       "  umgebungstyp_grob     split         rb                           Stadt  \\\n",
       "0      vorstädtisch     BADEN  KARLSRUHE        08211  BADEN-BADEN,STADT   \n",
       "1      vorstädtisch  BIBERACH  TUEBINGEN                 08426  BIBERACH   \n",
       "2         städtisch  FREIBURG   FREIBURG  08311  FREIBURG I.BREISG.STADT   \n",
       "3         städtisch  FREIBURG   FREIBURG  08311  FREIBURG I.BREISG.STADT   \n",
       "4         städtisch  FREIBURG   FREIBURG  08311  FREIBURG I.BREISG.STADT   \n",
       "\n",
       "   Insgesamt  Benzin  Diesel kennzahl                      ort  \n",
       "0      31179   21411    9555    08211        BADEN-BADEN,STADT  \n",
       "1     110593   72949   36744    08426                 BIBERACH  \n",
       "2      85591   56824   27764    08311  FREIBURG I.BREISG.STADT  \n",
       "3      85591   56824   27764    08311  FREIBURG I.BREISG.STADT  \n",
       "4      85591   56824   27764    08311  FREIBURG I.BREISG.STADT  "
      ]
     },
     "execution_count": 19,
     "metadata": {},
     "output_type": "execute_result"
    }
   ],
   "source": [
    "result.head()"
   ]
  },
  {
   "cell_type": "markdown",
   "metadata": {},
   "source": [
    "Join seemed to have worked as intended.\n",
    "\n",
    "Now checking on \"umgebunstyp\" and \"emissionstyp\". \n",
    "To get informative results those categories should better not be mixed."
   ]
  },
  {
   "cell_type": "code",
   "execution_count": 22,
   "metadata": {},
   "outputs": [
    {
     "data": {
      "text/plain": [
       "umgebungstyp\n",
       "ländlich Gebiet            13\n",
       "ländlich regional          48\n",
       "ländlich stadtnah          39\n",
       "städtisches Gebiet       2131\n",
       "vorstädtisches Gebiet     292\n",
       "Name: umgebungstyp, dtype: int64"
      ]
     },
     "execution_count": 22,
     "metadata": {},
     "output_type": "execute_result"
    }
   ],
   "source": [
    "result.groupby(\"umgebungstyp\")[\"umgebungstyp\"].count()"
   ]
  },
  {
   "cell_type": "code",
   "execution_count": 23,
   "metadata": {
    "scrolled": true
   },
   "outputs": [
    {
     "data": {
      "text/plain": [
       "emissionstyp\n",
       "Hintergrund    1025\n",
       "Industrie       111\n",
       "Verkehr        1387\n",
       "Name: emissionstyp, dtype: int64"
      ]
     },
     "execution_count": 23,
     "metadata": {},
     "output_type": "execute_result"
    }
   ],
   "source": [
    "result.groupby(\"emissionstyp\")[\"emissionstyp\"].count()"
   ]
  },
  {
   "cell_type": "markdown",
   "metadata": {},
   "source": [
    "\"emissionstyp\" contains a Verkehr categorie, which we will use for comparisons of NO2 values.\n",
    "\n",
    "Now creating a DataFrame with only the values relevant for our final analysis:\n",
    "* \"jahr\" the year\n",
    "* \"bundesland\" country\n",
    "* \"split\" location\n",
    "* \"jahresmittel\" year avergae NO2 value\n",
    "* \"insgesamt\" absolute vehicle number in that location\n",
    "* \"dieselanteil\" new column, calculated by diesel total / total"
   ]
  },
  {
   "cell_type": "code",
   "execution_count": 24,
   "metadata": {},
   "outputs": [],
   "source": [
    "selection = result[result[\"emissionstyp\"] == \"Verkehr\"]\n",
    "result_clean = selection[[\"jahr\",\"bundesland\",\"split\",\"jahresmittel\",\"Insgesamt\"]].copy()\n",
    "result_clean[\"dieselanteil\"] = selection[\"Diesel\"] / selection[\"Insgesamt\"]"
   ]
  },
  {
   "cell_type": "code",
   "execution_count": 26,
   "metadata": {
    "scrolled": true
   },
   "outputs": [
    {
     "data": {
      "text/html": [
       "<div>\n",
       "<style scoped>\n",
       "    .dataframe tbody tr th:only-of-type {\n",
       "        vertical-align: middle;\n",
       "    }\n",
       "\n",
       "    .dataframe tbody tr th {\n",
       "        vertical-align: top;\n",
       "    }\n",
       "\n",
       "    .dataframe thead th {\n",
       "        text-align: right;\n",
       "    }\n",
       "</style>\n",
       "<table border=\"1\" class=\"dataframe\">\n",
       "  <thead>\n",
       "    <tr style=\"text-align: right;\">\n",
       "      <th></th>\n",
       "      <th>jahr</th>\n",
       "      <th>bundesland</th>\n",
       "      <th>split</th>\n",
       "      <th>jahresmittel</th>\n",
       "      <th>Insgesamt</th>\n",
       "      <th>dieselanteil</th>\n",
       "    </tr>\n",
       "  </thead>\n",
       "  <tbody>\n",
       "    <tr>\n",
       "      <th>3</th>\n",
       "      <td>2012</td>\n",
       "      <td>BADEN-WUERTTEMBERG</td>\n",
       "      <td>FREIBURG</td>\n",
       "      <td>65.0</td>\n",
       "      <td>85591</td>\n",
       "      <td>0.324380</td>\n",
       "    </tr>\n",
       "    <tr>\n",
       "      <th>4</th>\n",
       "      <td>2012</td>\n",
       "      <td>BADEN-WUERTTEMBERG</td>\n",
       "      <td>FREIBURG</td>\n",
       "      <td>50.0</td>\n",
       "      <td>85591</td>\n",
       "      <td>0.324380</td>\n",
       "    </tr>\n",
       "    <tr>\n",
       "      <th>6</th>\n",
       "      <td>2012</td>\n",
       "      <td>BADEN-WUERTTEMBERG</td>\n",
       "      <td>HEIDELBERG</td>\n",
       "      <td>51.0</td>\n",
       "      <td>55499</td>\n",
       "      <td>0.300348</td>\n",
       "    </tr>\n",
       "    <tr>\n",
       "      <th>7</th>\n",
       "      <td>2012</td>\n",
       "      <td>BADEN-WUERTTEMBERG</td>\n",
       "      <td>HEIDENHEIM</td>\n",
       "      <td>53.0</td>\n",
       "      <td>73503</td>\n",
       "      <td>0.299321</td>\n",
       "    </tr>\n",
       "    <tr>\n",
       "      <th>10</th>\n",
       "      <td>2012</td>\n",
       "      <td>BADEN-WUERTTEMBERG</td>\n",
       "      <td>KARLSRUHE</td>\n",
       "      <td>46.0</td>\n",
       "      <td>131995</td>\n",
       "      <td>0.312035</td>\n",
       "    </tr>\n",
       "  </tbody>\n",
       "</table>\n",
       "</div>"
      ],
      "text/plain": [
       "    jahr          bundesland       split  jahresmittel  Insgesamt  \\\n",
       "3   2012  BADEN-WUERTTEMBERG    FREIBURG          65.0      85591   \n",
       "4   2012  BADEN-WUERTTEMBERG    FREIBURG          50.0      85591   \n",
       "6   2012  BADEN-WUERTTEMBERG  HEIDELBERG          51.0      55499   \n",
       "7   2012  BADEN-WUERTTEMBERG  HEIDENHEIM          53.0      73503   \n",
       "10  2012  BADEN-WUERTTEMBERG   KARLSRUHE          46.0     131995   \n",
       "\n",
       "    dieselanteil  \n",
       "3       0.324380  \n",
       "4       0.324380  \n",
       "6       0.300348  \n",
       "7       0.299321  \n",
       "10      0.312035  "
      ]
     },
     "execution_count": 26,
     "metadata": {},
     "output_type": "execute_result"
    }
   ],
   "source": [
    "result_clean.head()"
   ]
  },
  {
   "cell_type": "markdown",
   "metadata": {},
   "source": [
    "* Adding a \"location\" column, that combined bundesland with split, to achieve a unique location code. \n",
    "  (This may help differentiate between e.g. Frankfurt a.M. and Frankfurt Oder )"
   ]
  },
  {
   "cell_type": "code",
   "execution_count": 27,
   "metadata": {},
   "outputs": [],
   "source": [
    "result_clean[\"location\"] = result_clean[\"bundesland\"] + \" \" + result_clean[\"split\"]"
   ]
  },
  {
   "cell_type": "code",
   "execution_count": 29,
   "metadata": {
    "scrolled": false
   },
   "outputs": [
    {
     "data": {
      "text/plain": [
       "3       BADEN-WUERTTEMBERG FREIBURG\n",
       "4       BADEN-WUERTTEMBERG FREIBURG\n",
       "6     BADEN-WUERTTEMBERG HEIDELBERG\n",
       "7     BADEN-WUERTTEMBERG HEIDENHEIM\n",
       "10     BADEN-WUERTTEMBERG KARLSRUHE\n",
       "Name: location, dtype: object"
      ]
     },
     "execution_count": 29,
     "metadata": {},
     "output_type": "execute_result"
    }
   ],
   "source": [
    "result_clean[\"location\"].head()"
   ]
  },
  {
   "cell_type": "code",
   "execution_count": 30,
   "metadata": {},
   "outputs": [
    {
     "data": {
      "text/plain": [
       "array([  65.,   50.,   51.,   53.,   46.,   61.,   79.,   90.,   91.,\n",
       "         64.,   58.,   39.,   33.,   32.,   34.,   27.,   44.,   26.,\n",
       "         47.,   45.,   57.,   62.,   49.,   60.,   22.,   42.,   59.,\n",
       "         55.,   36.,   52.,   43.,   37.,   54.,   41.,   40.,   56.,\n",
       "         31.,   24.,   30.,   35.,   29.,   48.,   23.,   63.,   38.,\n",
       "         28.,   72.,   89.,   80.,   25.,   66.,   21.,   20.,   67.,\n",
       "         71.,   77.,   70.,   87., -999.,   82.,   76.,   19.,   73.,\n",
       "         69.,   18.,   17.,   16.])"
      ]
     },
     "execution_count": 30,
     "metadata": {},
     "output_type": "execute_result"
    }
   ],
   "source": [
    "result_clean[\"jahresmittel\"].unique()"
   ]
  },
  {
   "cell_type": "markdown",
   "metadata": {},
   "source": [
    "* there still is a <0 value that was not properly removed\n",
    "* remove all <0 Values"
   ]
  },
  {
   "cell_type": "code",
   "execution_count": 31,
   "metadata": {
    "scrolled": true
   },
   "outputs": [],
   "source": [
    "result_clean = result_clean[result_clean[\"jahresmittel\"] > 0]"
   ]
  },
  {
   "cell_type": "markdown",
   "metadata": {},
   "source": [
    "Creating individual sub-DFs for easy acces of the individual year data."
   ]
  },
  {
   "cell_type": "code",
   "execution_count": 33,
   "metadata": {},
   "outputs": [],
   "source": [
    "years = [2012,2013,2014,2015,2016,2017,2018,2019]\n",
    "year_df = []\n",
    "for year in years:\n",
    "    year_df.append(result_clean[result_clean[\"jahr\"] == year])"
   ]
  },
  {
   "cell_type": "markdown",
   "metadata": {},
   "source": [
    "Via groupby and mean we calculate the mean values of nitrogen, vehicles total and diesel percentage for each location.\n",
    "This is averaged over all years. "
   ]
  },
  {
   "cell_type": "code",
   "execution_count": 34,
   "metadata": {},
   "outputs": [],
   "source": [
    "sum_no2 = result_clean.groupby(\"location\")[[\"jahresmittel\",\"Insgesamt\", \"dieselanteil\"]].mean()"
   ]
  },
  {
   "cell_type": "code",
   "execution_count": 36,
   "metadata": {},
   "outputs": [
    {
     "data": {
      "text/html": [
       "<div>\n",
       "<style scoped>\n",
       "    .dataframe tbody tr th:only-of-type {\n",
       "        vertical-align: middle;\n",
       "    }\n",
       "\n",
       "    .dataframe tbody tr th {\n",
       "        vertical-align: top;\n",
       "    }\n",
       "\n",
       "    .dataframe thead th {\n",
       "        text-align: right;\n",
       "    }\n",
       "</style>\n",
       "<table border=\"1\" class=\"dataframe\">\n",
       "  <thead>\n",
       "    <tr style=\"text-align: right;\">\n",
       "      <th></th>\n",
       "      <th>jahresmittel</th>\n",
       "      <th>Insgesamt</th>\n",
       "      <th>dieselanteil</th>\n",
       "    </tr>\n",
       "    <tr>\n",
       "      <th>location</th>\n",
       "      <th></th>\n",
       "      <th></th>\n",
       "      <th></th>\n",
       "    </tr>\n",
       "  </thead>\n",
       "  <tbody>\n",
       "    <tr>\n",
       "      <th>BADEN-WUERTTEMBERG ESSLINGEN</th>\n",
       "      <td>46.500000</td>\n",
       "      <td>322083.750000</td>\n",
       "      <td>0.328483</td>\n",
       "    </tr>\n",
       "    <tr>\n",
       "      <th>BADEN-WUERTTEMBERG FREIBURG</th>\n",
       "      <td>49.153846</td>\n",
       "      <td>88447.384615</td>\n",
       "      <td>0.352220</td>\n",
       "    </tr>\n",
       "    <tr>\n",
       "      <th>BADEN-WUERTTEMBERG HEIDELBERG</th>\n",
       "      <td>42.375000</td>\n",
       "      <td>58094.125000</td>\n",
       "      <td>0.333817</td>\n",
       "    </tr>\n",
       "    <tr>\n",
       "      <th>BADEN-WUERTTEMBERG HEIDENHEIM</th>\n",
       "      <td>45.000000</td>\n",
       "      <td>77546.250000</td>\n",
       "      <td>0.327444</td>\n",
       "    </tr>\n",
       "    <tr>\n",
       "      <th>BADEN-WUERTTEMBERG HEILBRONN</th>\n",
       "      <td>57.714286</td>\n",
       "      <td>143025.928571</td>\n",
       "      <td>0.337812</td>\n",
       "    </tr>\n",
       "  </tbody>\n",
       "</table>\n",
       "</div>"
      ],
      "text/plain": [
       "                               jahresmittel      Insgesamt  dieselanteil\n",
       "location                                                                \n",
       "BADEN-WUERTTEMBERG ESSLINGEN      46.500000  322083.750000      0.328483\n",
       "BADEN-WUERTTEMBERG FREIBURG       49.153846   88447.384615      0.352220\n",
       "BADEN-WUERTTEMBERG HEIDELBERG     42.375000   58094.125000      0.333817\n",
       "BADEN-WUERTTEMBERG HEIDENHEIM     45.000000   77546.250000      0.327444\n",
       "BADEN-WUERTTEMBERG HEILBRONN      57.714286  143025.928571      0.337812"
      ]
     },
     "execution_count": 36,
     "metadata": {},
     "output_type": "execute_result"
    }
   ],
   "source": [
    "sum_no2.head()"
   ]
  },
  {
   "cell_type": "code",
   "execution_count": 37,
   "metadata": {},
   "outputs": [],
   "source": [
    "# may be saved as csv\n",
    "#sum_no2.to_csv(\"sum_no2.csv\")"
   ]
  },
  {
   "cell_type": "markdown",
   "metadata": {},
   "source": [
    "* Visualizing NO2 values against total vehicles in any location"
   ]
  },
  {
   "cell_type": "code",
   "execution_count": 38,
   "metadata": {},
   "outputs": [
    {
     "data": {
      "text/plain": [
       "<matplotlib.axes._subplots.AxesSubplot at 0x1d29a4dee88>"
      ]
     },
     "execution_count": 38,
     "metadata": {},
     "output_type": "execute_result"
    },
    {
     "data": {
      "image/png": "[encoded data removed]",
      "text/plain": [
       "<Figure size 432x288 with 1 Axes>"
      ]
     },
     "metadata": {
      "needs_background": "light"
     },
     "output_type": "display_data"
    }
   ],
   "source": [
    "sum_no2.plot(x=\"Insgesamt\", y=\"jahresmittel\",kind=\"scatter\")"
   ]
  },
  {
   "cell_type": "markdown",
   "metadata": {},
   "source": [
    "* Dropping extreme outliers. Those may occur due to major car sharing companies."
   ]
  },
  {
   "cell_type": "code",
   "execution_count": 41,
   "metadata": {},
   "outputs": [],
   "source": [
    "sum_no2 = sum_no2[sum_no2[\"Insgesamt\"] < 400000]"
   ]
  },
  {
   "cell_type": "code",
   "execution_count": 42,
   "metadata": {},
   "outputs": [
    {
     "data": {
      "text/plain": [
       "<matplotlib.axes._subplots.AxesSubplot at 0x1d29a5db2c8>"
      ]
     },
     "execution_count": 42,
     "metadata": {},
     "output_type": "execute_result"
    },
    {
     "data": {
      "image/png": "[encoded data removed]",
      "text/plain": [
       "<Figure size 432x288 with 1 Axes>"
      ]
     },
     "metadata": {
      "needs_background": "light"
     },
     "output_type": "display_data"
    }
   ],
   "source": [
    "sum_no2.plot(x=\"Insgesamt\", y=\"jahresmittel\",kind=\"scatter\")"
   ]
  },
  {
   "cell_type": "code",
   "execution_count": 43,
   "metadata": {},
   "outputs": [
    {
     "data": {
      "text/html": [
       "<div>\n",
       "<style scoped>\n",
       "    .dataframe tbody tr th:only-of-type {\n",
       "        vertical-align: middle;\n",
       "    }\n",
       "\n",
       "    .dataframe tbody tr th {\n",
       "        vertical-align: top;\n",
       "    }\n",
       "\n",
       "    .dataframe thead th {\n",
       "        text-align: right;\n",
       "    }\n",
       "</style>\n",
       "<table border=\"1\" class=\"dataframe\">\n",
       "  <thead>\n",
       "    <tr style=\"text-align: right;\">\n",
       "      <th></th>\n",
       "      <th>jahresmittel</th>\n",
       "      <th>Insgesamt</th>\n",
       "      <th>dieselanteil</th>\n",
       "    </tr>\n",
       "  </thead>\n",
       "  <tbody>\n",
       "    <tr>\n",
       "      <th>jahresmittel</th>\n",
       "      <td>1.000000</td>\n",
       "      <td>0.513440</td>\n",
       "      <td>0.205867</td>\n",
       "    </tr>\n",
       "    <tr>\n",
       "      <th>Insgesamt</th>\n",
       "      <td>0.513440</td>\n",
       "      <td>1.000000</td>\n",
       "      <td>0.139262</td>\n",
       "    </tr>\n",
       "    <tr>\n",
       "      <th>dieselanteil</th>\n",
       "      <td>0.205867</td>\n",
       "      <td>0.139262</td>\n",
       "      <td>1.000000</td>\n",
       "    </tr>\n",
       "  </tbody>\n",
       "</table>\n",
       "</div>"
      ],
      "text/plain": [
       "              jahresmittel  Insgesamt  dieselanteil\n",
       "jahresmittel      1.000000   0.513440      0.205867\n",
       "Insgesamt         0.513440   1.000000      0.139262\n",
       "dieselanteil      0.205867   0.139262      1.000000"
      ]
     },
     "execution_count": 43,
     "metadata": {},
     "output_type": "execute_result"
    }
   ],
   "source": [
    "sum_no2.corr()"
   ]
  },
  {
   "cell_type": "markdown",
   "metadata": {},
   "source": [
    "Positive correlation between car total and NO2 values is visible."
   ]
  },
  {
   "cell_type": "markdown",
   "metadata": {},
   "source": [
    "Dieselanteil doesnt correlate strongly with NO2 values, however, plotting for a visual impression."
   ]
  },
  {
   "cell_type": "code",
   "execution_count": 44,
   "metadata": {
    "scrolled": true
   },
   "outputs": [
    {
     "data": {
      "text/plain": [
       "<matplotlib.axes._subplots.AxesSubplot at 0x1d29a646bc8>"
      ]
     },
     "execution_count": 44,
     "metadata": {},
     "output_type": "execute_result"
    },
    {
     "data": {
      "image/png": "[encoded data removed]",
      "text/plain": [
       "<Figure size 432x288 with 1 Axes>"
      ]
     },
     "metadata": {
      "needs_background": "light"
     },
     "output_type": "display_data"
    }
   ],
   "source": [
    "sum_no2.plot(x=\"dieselanteil\", y=\"jahresmittel\",kind=\"scatter\")"
   ]
  },
  {
   "cell_type": "markdown",
   "metadata": {},
   "source": [
    "#### Linear Regression\n",
    "\n",
    "* try to fit a linear regression model for vehicles total vs NO2 values\n",
    "* as well as dieselanteil vs NO2 values\n",
    "* using sklear model"
   ]
  },
  {
   "cell_type": "code",
   "execution_count": 48,
   "metadata": {},
   "outputs": [
    {
     "data": {
      "text/plain": [
       "LinearRegression()"
      ]
     },
     "execution_count": 48,
     "metadata": {},
     "output_type": "execute_result"
    }
   ],
   "source": [
    "from sklearn import linear_model\n",
    "regr = linear_model.LinearRegression()\n",
    "# turning series to np array\n",
    "train_x = sum_no2[\"Insgesamt\"].values.reshape(-1, 1)\n",
    "train_y = sum_no2[\"jahresmittel\"].values.reshape(-1, 1)\n",
    "regr.fit (train_x, train_y)"
   ]
  },
  {
   "cell_type": "markdown",
   "metadata": {},
   "source": [
    "Plot the resulting regression 'curve' onto the data."
   ]
  },
  {
   "cell_type": "code",
   "execution_count": 51,
   "metadata": {
    "scrolled": true
   },
   "outputs": [
    {
     "data": {
      "image/png": "[encoded data removed]",
      "text/plain": [
       "<Figure size 432x288 with 1 Axes>"
      ]
     },
     "metadata": {
      "needs_background": "light"
     },
     "output_type": "display_data"
    }
   ],
   "source": [
    "plt.scatter(train_x, train_y)\n",
    "\n",
    "vals = np.arange(min(train_x),max(train_x)).reshape(-1,1)\n",
    "plt.plot(vals, regr.predict(vals), color=(227/255, 89/255, 79/255))\n",
    "\n",
    "plt.xlabel(\"Vehicle count total\")\n",
    "plt.ylabel(\"Average yearly NO2 (µg/m³)\")\n",
    "plt.show()"
   ]
  },
  {
   "cell_type": "markdown",
   "metadata": {},
   "source": [
    "Get error values."
   ]
  },
  {
   "cell_type": "code",
   "execution_count": 52,
   "metadata": {},
   "outputs": [
    {
     "name": "stdout",
     "output_type": "stream",
     "text": [
      "Mean absolute error: 6.00\n",
      "Residual sum of squares (MSE): 56.78\n",
      "R2-score: 0.26\n"
     ]
    }
   ],
   "source": [
    "from sklearn.metrics import r2_score\n",
    "train_y_ = regr.predict(train_x)\n",
    "\n",
    "print(\"Mean absolute error: %.2f\" % np.mean(np.absolute(train_y_ - train_y)))\n",
    "print(\"Residual sum of squares (MSE): %.2f\" % np.mean((train_y_ - train_y) ** 2))\n",
    "print(\"R2-score: %.2f\" % r2_score(train_y, train_y_) )"
   ]
  },
  {
   "cell_type": "markdown",
   "metadata": {},
   "source": [
    "R² is not very high, however we also have very highly deviating data."
   ]
  },
  {
   "cell_type": "markdown",
   "metadata": {},
   "source": [
    "Repeat for dieselanteil."
   ]
  },
  {
   "cell_type": "code",
   "execution_count": 57,
   "metadata": {},
   "outputs": [
    {
     "data": {
      "text/plain": [
       "LinearRegression()"
      ]
     },
     "execution_count": 57,
     "metadata": {},
     "output_type": "execute_result"
    }
   ],
   "source": [
    "regr = linear_model.LinearRegression()\n",
    "train_x = sum_no2[\"dieselanteil\"].values.reshape(-1, 1)\n",
    "train_y = sum_no2[\"jahresmittel\"].values.reshape(-1, 1)\n",
    "regr.fit (train_x, train_y)"
   ]
  },
  {
   "cell_type": "code",
   "execution_count": 60,
   "metadata": {
    "scrolled": true
   },
   "outputs": [
    {
     "data": {
      "image/png": "[encoded data removed]",
      "text/plain": [
       "<Figure size 432x288 with 1 Axes>"
      ]
     },
     "metadata": {
      "needs_background": "light"
     },
     "output_type": "display_data"
    }
   ],
   "source": [
    "plt.scatter(train_x, train_y)\n",
    "vals = np.arange(min(train_x),max(train_x), step=0.005).reshape(-1,1)\n",
    "plt.plot(vals, regr.predict(vals), color=(227/255, 89/255, 79/255))\n",
    "plt.show()"
   ]
  },
  {
   "cell_type": "markdown",
   "metadata": {},
   "source": [
    "Receive line with positive slope, however not as steep."
   ]
  },
  {
   "cell_type": "markdown",
   "metadata": {},
   "source": [
    "* get errors as well"
   ]
  },
  {
   "cell_type": "code",
   "execution_count": 62,
   "metadata": {},
   "outputs": [
    {
     "name": "stdout",
     "output_type": "stream",
     "text": [
      "Mean absolute error: 6.61\n",
      "Residual sum of squares (MSE): 73.85\n",
      "R2-score: 0.04\n"
     ]
    }
   ],
   "source": [
    "from sklearn.metrics import r2_score\n",
    "\n",
    "train_y_ = regr.predict(train_x)\n",
    "\n",
    "print(\"Mean absolute error: %.2f\" % np.mean(np.absolute(train_y_ - train_y)))\n",
    "print(\"Residual sum of squares (MSE): %.2f\" % np.mean((train_y_ - train_y) ** 2))\n",
    "print(\"R2-score: %.2f\" % r2_score(train_y, train_y_) )"
   ]
  },
  {
   "cell_type": "markdown",
   "metadata": {},
   "source": [
    "* very low R² score\n",
    "\n",
    "Compute heatmaps of given data to visualise missing data as well as potential trends over the years.\n",
    "\n",
    "year_df contains the previously obtained single year dataframes."
   ]
  },
  {
   "cell_type": "code",
   "execution_count": 64,
   "metadata": {
    "scrolled": true
   },
   "outputs": [
    {
     "data": {
      "text/html": [
       "<div>\n",
       "<style scoped>\n",
       "    .dataframe tbody tr th:only-of-type {\n",
       "        vertical-align: middle;\n",
       "    }\n",
       "\n",
       "    .dataframe tbody tr th {\n",
       "        vertical-align: top;\n",
       "    }\n",
       "\n",
       "    .dataframe thead th {\n",
       "        text-align: right;\n",
       "    }\n",
       "</style>\n",
       "<table border=\"1\" class=\"dataframe\">\n",
       "  <thead>\n",
       "    <tr style=\"text-align: right;\">\n",
       "      <th></th>\n",
       "      <th>jahr</th>\n",
       "      <th>bundesland</th>\n",
       "      <th>split</th>\n",
       "      <th>jahresmittel</th>\n",
       "      <th>Insgesamt</th>\n",
       "      <th>dieselanteil</th>\n",
       "      <th>location</th>\n",
       "    </tr>\n",
       "  </thead>\n",
       "  <tbody>\n",
       "    <tr>\n",
       "      <th>3</th>\n",
       "      <td>2012</td>\n",
       "      <td>BADEN-WUERTTEMBERG</td>\n",
       "      <td>FREIBURG</td>\n",
       "      <td>65.0</td>\n",
       "      <td>85591</td>\n",
       "      <td>0.324380</td>\n",
       "      <td>BADEN-WUERTTEMBERG FREIBURG</td>\n",
       "    </tr>\n",
       "    <tr>\n",
       "      <th>4</th>\n",
       "      <td>2012</td>\n",
       "      <td>BADEN-WUERTTEMBERG</td>\n",
       "      <td>FREIBURG</td>\n",
       "      <td>50.0</td>\n",
       "      <td>85591</td>\n",
       "      <td>0.324380</td>\n",
       "      <td>BADEN-WUERTTEMBERG FREIBURG</td>\n",
       "    </tr>\n",
       "    <tr>\n",
       "      <th>6</th>\n",
       "      <td>2012</td>\n",
       "      <td>BADEN-WUERTTEMBERG</td>\n",
       "      <td>HEIDELBERG</td>\n",
       "      <td>51.0</td>\n",
       "      <td>55499</td>\n",
       "      <td>0.300348</td>\n",
       "      <td>BADEN-WUERTTEMBERG HEIDELBERG</td>\n",
       "    </tr>\n",
       "    <tr>\n",
       "      <th>7</th>\n",
       "      <td>2012</td>\n",
       "      <td>BADEN-WUERTTEMBERG</td>\n",
       "      <td>HEIDENHEIM</td>\n",
       "      <td>53.0</td>\n",
       "      <td>73503</td>\n",
       "      <td>0.299321</td>\n",
       "      <td>BADEN-WUERTTEMBERG HEIDENHEIM</td>\n",
       "    </tr>\n",
       "    <tr>\n",
       "      <th>10</th>\n",
       "      <td>2012</td>\n",
       "      <td>BADEN-WUERTTEMBERG</td>\n",
       "      <td>KARLSRUHE</td>\n",
       "      <td>46.0</td>\n",
       "      <td>131995</td>\n",
       "      <td>0.312035</td>\n",
       "      <td>BADEN-WUERTTEMBERG KARLSRUHE</td>\n",
       "    </tr>\n",
       "  </tbody>\n",
       "</table>\n",
       "</div>"
      ],
      "text/plain": [
       "    jahr          bundesland       split  jahresmittel  Insgesamt  \\\n",
       "3   2012  BADEN-WUERTTEMBERG    FREIBURG          65.0      85591   \n",
       "4   2012  BADEN-WUERTTEMBERG    FREIBURG          50.0      85591   \n",
       "6   2012  BADEN-WUERTTEMBERG  HEIDELBERG          51.0      55499   \n",
       "7   2012  BADEN-WUERTTEMBERG  HEIDENHEIM          53.0      73503   \n",
       "10  2012  BADEN-WUERTTEMBERG   KARLSRUHE          46.0     131995   \n",
       "\n",
       "    dieselanteil                       location  \n",
       "3       0.324380    BADEN-WUERTTEMBERG FREIBURG  \n",
       "4       0.324380    BADEN-WUERTTEMBERG FREIBURG  \n",
       "6       0.300348  BADEN-WUERTTEMBERG HEIDELBERG  \n",
       "7       0.299321  BADEN-WUERTTEMBERG HEIDENHEIM  \n",
       "10      0.312035   BADEN-WUERTTEMBERG KARLSRUHE  "
      ]
     },
     "execution_count": 64,
     "metadata": {},
     "output_type": "execute_result"
    }
   ],
   "source": [
    "year_df[0].head()"
   ]
  },
  {
   "cell_type": "markdown",
   "metadata": {},
   "source": [
    "Aggregate single year dataframes for location and get mean values."
   ]
  },
  {
   "cell_type": "code",
   "execution_count": 65,
   "metadata": {},
   "outputs": [],
   "source": [
    "grouped = []\n",
    "for x in year_df:\n",
    "    grouped.append(x.groupby(\"location\")[[\"jahresmittel\",\"Insgesamt\", \"dieselanteil\"]].mean())"
   ]
  },
  {
   "cell_type": "code",
   "execution_count": 67,
   "metadata": {
    "scrolled": true
   },
   "outputs": [
    {
     "data": {
      "text/html": [
       "<div>\n",
       "<style scoped>\n",
       "    .dataframe tbody tr th:only-of-type {\n",
       "        vertical-align: middle;\n",
       "    }\n",
       "\n",
       "    .dataframe tbody tr th {\n",
       "        vertical-align: top;\n",
       "    }\n",
       "\n",
       "    .dataframe thead th {\n",
       "        text-align: right;\n",
       "    }\n",
       "</style>\n",
       "<table border=\"1\" class=\"dataframe\">\n",
       "  <thead>\n",
       "    <tr style=\"text-align: right;\">\n",
       "      <th></th>\n",
       "      <th>jahresmittel</th>\n",
       "      <th>Insgesamt</th>\n",
       "      <th>dieselanteil</th>\n",
       "    </tr>\n",
       "    <tr>\n",
       "      <th>location</th>\n",
       "      <th></th>\n",
       "      <th></th>\n",
       "      <th></th>\n",
       "    </tr>\n",
       "  </thead>\n",
       "  <tbody>\n",
       "    <tr>\n",
       "      <th>BADEN-WUERTTEMBERG FREIBURG</th>\n",
       "      <td>57.5</td>\n",
       "      <td>85591.0</td>\n",
       "      <td>0.324380</td>\n",
       "    </tr>\n",
       "    <tr>\n",
       "      <th>BADEN-WUERTTEMBERG HEIDELBERG</th>\n",
       "      <td>51.0</td>\n",
       "      <td>55499.0</td>\n",
       "      <td>0.300348</td>\n",
       "    </tr>\n",
       "    <tr>\n",
       "      <th>BADEN-WUERTTEMBERG HEIDENHEIM</th>\n",
       "      <td>53.0</td>\n",
       "      <td>73503.0</td>\n",
       "      <td>0.299321</td>\n",
       "    </tr>\n",
       "    <tr>\n",
       "      <th>BADEN-WUERTTEMBERG KARLSRUHE</th>\n",
       "      <td>46.0</td>\n",
       "      <td>189694.0</td>\n",
       "      <td>0.294489</td>\n",
       "    </tr>\n",
       "    <tr>\n",
       "      <th>BADEN-WUERTTEMBERG LUDWIGSBURG</th>\n",
       "      <td>61.0</td>\n",
       "      <td>292479.0</td>\n",
       "      <td>0.277097</td>\n",
       "    </tr>\n",
       "  </tbody>\n",
       "</table>\n",
       "</div>"
      ],
      "text/plain": [
       "                                jahresmittel  Insgesamt  dieselanteil\n",
       "location                                                             \n",
       "BADEN-WUERTTEMBERG FREIBURG             57.5    85591.0      0.324380\n",
       "BADEN-WUERTTEMBERG HEIDELBERG           51.0    55499.0      0.300348\n",
       "BADEN-WUERTTEMBERG HEIDENHEIM           53.0    73503.0      0.299321\n",
       "BADEN-WUERTTEMBERG KARLSRUHE            46.0   189694.0      0.294489\n",
       "BADEN-WUERTTEMBERG LUDWIGSBURG          61.0   292479.0      0.277097"
      ]
     },
     "execution_count": 67,
     "metadata": {},
     "output_type": "execute_result"
    }
   ],
   "source": [
    "grouped[0].head()"
   ]
  },
  {
   "cell_type": "markdown",
   "metadata": {},
   "source": [
    "Create heatmap dataframe, for visualisation of the change in vehicles total as well as NO2 values over several years in each location. This will also highlight data missing for cetain years."
   ]
  },
  {
   "cell_type": "code",
   "execution_count": 68,
   "metadata": {},
   "outputs": [],
   "source": [
    "heatmap = pd.DataFrame(index=grouped[0].index)\n",
    "for id,year in enumerate(years):\n",
    "    heatmap[str(year)] = grouped[id][\"jahresmittel\"]"
   ]
  },
  {
   "cell_type": "code",
   "execution_count": 70,
   "metadata": {},
   "outputs": [
    {
     "data": {
      "text/html": [
       "<div>\n",
       "<style scoped>\n",
       "    .dataframe tbody tr th:only-of-type {\n",
       "        vertical-align: middle;\n",
       "    }\n",
       "\n",
       "    .dataframe tbody tr th {\n",
       "        vertical-align: top;\n",
       "    }\n",
       "\n",
       "    .dataframe thead th {\n",
       "        text-align: right;\n",
       "    }\n",
       "</style>\n",
       "<table border=\"1\" class=\"dataframe\">\n",
       "  <thead>\n",
       "    <tr style=\"text-align: right;\">\n",
       "      <th></th>\n",
       "      <th>2012</th>\n",
       "      <th>2013</th>\n",
       "      <th>2014</th>\n",
       "      <th>2015</th>\n",
       "      <th>2016</th>\n",
       "      <th>2017</th>\n",
       "      <th>2018</th>\n",
       "      <th>2019</th>\n",
       "    </tr>\n",
       "    <tr>\n",
       "      <th>location</th>\n",
       "      <th></th>\n",
       "      <th></th>\n",
       "      <th></th>\n",
       "      <th></th>\n",
       "      <th></th>\n",
       "      <th></th>\n",
       "      <th></th>\n",
       "      <th></th>\n",
       "    </tr>\n",
       "  </thead>\n",
       "  <tbody>\n",
       "    <tr>\n",
       "      <th>BADEN-WUERTTEMBERG FREIBURG</th>\n",
       "      <td>57.5</td>\n",
       "      <td>54.5</td>\n",
       "      <td>52.5</td>\n",
       "      <td>48.5</td>\n",
       "      <td>41.0</td>\n",
       "      <td>43.0</td>\n",
       "      <td>50.0</td>\n",
       "      <td>36.0</td>\n",
       "    </tr>\n",
       "    <tr>\n",
       "      <th>BADEN-WUERTTEMBERG HEIDELBERG</th>\n",
       "      <td>51.0</td>\n",
       "      <td>46.0</td>\n",
       "      <td>44.0</td>\n",
       "      <td>45.0</td>\n",
       "      <td>42.0</td>\n",
       "      <td>39.0</td>\n",
       "      <td>38.0</td>\n",
       "      <td>34.0</td>\n",
       "    </tr>\n",
       "    <tr>\n",
       "      <th>BADEN-WUERTTEMBERG HEIDENHEIM</th>\n",
       "      <td>53.0</td>\n",
       "      <td>50.0</td>\n",
       "      <td>49.0</td>\n",
       "      <td>48.0</td>\n",
       "      <td>44.0</td>\n",
       "      <td>41.0</td>\n",
       "      <td>39.0</td>\n",
       "      <td>36.0</td>\n",
       "    </tr>\n",
       "    <tr>\n",
       "      <th>BADEN-WUERTTEMBERG KARLSRUHE</th>\n",
       "      <td>46.0</td>\n",
       "      <td>39.0</td>\n",
       "      <td>NaN</td>\n",
       "      <td>NaN</td>\n",
       "      <td>NaN</td>\n",
       "      <td>39.0</td>\n",
       "      <td>38.0</td>\n",
       "      <td>34.0</td>\n",
       "    </tr>\n",
       "    <tr>\n",
       "      <th>BADEN-WUERTTEMBERG LUDWIGSBURG</th>\n",
       "      <td>61.0</td>\n",
       "      <td>64.0</td>\n",
       "      <td>61.0</td>\n",
       "      <td>58.0</td>\n",
       "      <td>53.0</td>\n",
       "      <td>51.0</td>\n",
       "      <td>51.0</td>\n",
       "      <td>NaN</td>\n",
       "    </tr>\n",
       "  </tbody>\n",
       "</table>\n",
       "</div>"
      ],
      "text/plain": [
       "                                2012  2013  2014  2015  2016  2017  2018  2019\n",
       "location                                                                      \n",
       "BADEN-WUERTTEMBERG FREIBURG     57.5  54.5  52.5  48.5  41.0  43.0  50.0  36.0\n",
       "BADEN-WUERTTEMBERG HEIDELBERG   51.0  46.0  44.0  45.0  42.0  39.0  38.0  34.0\n",
       "BADEN-WUERTTEMBERG HEIDENHEIM   53.0  50.0  49.0  48.0  44.0  41.0  39.0  36.0\n",
       "BADEN-WUERTTEMBERG KARLSRUHE    46.0  39.0   NaN   NaN   NaN  39.0  38.0  34.0\n",
       "BADEN-WUERTTEMBERG LUDWIGSBURG  61.0  64.0  61.0  58.0  53.0  51.0  51.0   NaN"
      ]
     },
     "execution_count": 70,
     "metadata": {},
     "output_type": "execute_result"
    }
   ],
   "source": [
    "heatmap.head()"
   ]
  },
  {
   "cell_type": "code",
   "execution_count": 71,
   "metadata": {},
   "outputs": [],
   "source": [
    "import seaborn as sns"
   ]
  },
  {
   "cell_type": "markdown",
   "metadata": {},
   "source": [
    "Visualising heatmap for NO2 values. X-axis only shows example subset of locations."
   ]
  },
  {
   "cell_type": "code",
   "execution_count": 72,
   "metadata": {},
   "outputs": [
    {
     "data": {
      "text/plain": [
       "<matplotlib.axes._subplots.AxesSubplot at 0x1d29d7b22c8>"
      ]
     },
     "execution_count": 72,
     "metadata": {},
     "output_type": "execute_result"
    },
    {
     "data": {
      "image/png": "[encoded data removed]",
      "text/plain": [
       "<Figure size 432x288 with 2 Axes>"
      ]
     },
     "metadata": {
      "needs_background": "light"
     },
     "output_type": "display_data"
    }
   ],
   "source": [
    "sns.heatmap(heatmap, annot=False)"
   ]
  },
  {
   "cell_type": "markdown",
   "metadata": {},
   "source": [
    "* For some some locations NO2 values may be decresing over the years."
   ]
  },
  {
   "cell_type": "code",
   "execution_count": 74,
   "metadata": {},
   "outputs": [],
   "source": [
    "heatmap = pd.DataFrame(index=grouped[0].index)\n",
    "for id,year in enumerate(years):\n",
    "    heatmap[str(year)] = grouped[id][\"Insgesamt\"]"
   ]
  },
  {
   "cell_type": "markdown",
   "metadata": {},
   "source": [
    "Visualising heatmap for total vehicle values. X-axis only shows example subset of locations."
   ]
  },
  {
   "cell_type": "code",
   "execution_count": 75,
   "metadata": {
    "scrolled": false
   },
   "outputs": [
    {
     "data": {
      "text/plain": [
       "<matplotlib.axes._subplots.AxesSubplot at 0x1d29d37ccc8>"
      ]
     },
     "execution_count": 75,
     "metadata": {},
     "output_type": "execute_result"
    },
    {
     "data": {
      "image/png": "[encoded data removed]",
      "text/plain": [
       "<Figure size 432x288 with 2 Axes>"
      ]
     },
     "metadata": {
      "needs_background": "light"
     },
     "output_type": "display_data"
    }
   ],
   "source": [
    "sns.heatmap(heatmap, annot=False)"
   ]
  },
  {
   "cell_type": "markdown",
   "metadata": {},
   "source": [
    "* Toal vehicle numbers don't seem to change much over years.\n",
    "\n",
    "Missing values in both these Heatmaps may result from NO2 measure stations being created/removed as well as car registration offices may be opened and closed."
   ]
  },
  {
   "cell_type": "markdown",
   "metadata": {},
   "source": [
    "### Nonlinear regression"
   ]
  },
  {
   "cell_type": "markdown",
   "metadata": {},
   "source": [
    "Try to fit polynomials with degree 2 to 8 on our data.\n",
    "* attempting to find best fit via lasso with crossvalidation (lassocv)\n",
    "* Use MSE for comparison."
   ]
  },
  {
   "cell_type": "code",
   "execution_count": 76,
   "metadata": {},
   "outputs": [],
   "source": [
    "from sklearn.preprocessing import PolynomialFeatures\n",
    "from sklearn.linear_model import LinearRegression\n",
    "from sklearn.linear_model import LassoCV\n",
    "from sklearn.pipeline import make_pipeline"
   ]
  },
  {
   "cell_type": "code",
   "execution_count": 95,
   "metadata": {},
   "outputs": [],
   "source": [
    "#potential lasso parameters\n",
    "\n",
    "#eps = 0.0001\n",
    "#nalpha=20\n",
    "#iter=5000"
   ]
  },
  {
   "cell_type": "code",
   "execution_count": 96,
   "metadata": {},
   "outputs": [],
   "source": [
    "degree_min = 2\n",
    "degree_max = 8"
   ]
  },
  {
   "cell_type": "code",
   "execution_count": 97,
   "metadata": {},
   "outputs": [],
   "source": [
    "# turn to numpy arrays\n",
    "x = sum_no2[\"Insgesamt\"].values.reshape(-1, 1)\n",
    "y = sum_no2[\"jahresmittel\"].values.reshape(-1, 1)"
   ]
  },
  {
   "cell_type": "markdown",
   "metadata": {},
   "source": [
    "* create model of Polynomial features with lasso regression\n",
    "* fit models to our data\n",
    "* save model error, score and model"
   ]
  },
  {
   "cell_type": "code",
   "execution_count": 98,
   "metadata": {},
   "outputs": [],
   "source": [
    "# just for notebook readability dont show module warnings\n",
    "import warnings\n",
    "warnings.filterwarnings('ignore')"
   ]
  },
  {
   "cell_type": "markdown",
   "metadata": {},
   "source": [
    "* for each degree from 2 to 8:\n",
    "* create polynomial features and apply lassocv\n",
    "* fit Lasso model\n",
    "* save in list"
   ]
  },
  {
   "cell_type": "code",
   "execution_count": 116,
   "metadata": {},
   "outputs": [],
   "source": [
    "results = []\n",
    "for degree in range(degree_min,degree_max+1):\n",
    "    model = make_pipeline(PolynomialFeatures(degree, interaction_only=False), LassoCV(normalize=True,cv=5))\n",
    "    model.fit(x,y)\n",
    "    results.append(model)"
   ]
  },
  {
   "cell_type": "code",
   "execution_count": 81,
   "metadata": {},
   "outputs": [
    {
     "data": {
      "text/plain": [
       "'from sklearn.linear_model import Ridge\\nresults = []\\nfor degree in range(degree_min,degree_max+1):\\n    model = make_pipeline(PolynomialFeatures(degree, interaction_only=False), Ridge())\\n    model.fit(x,y)\\n    results.append(model)'"
      ]
     },
     "execution_count": 81,
     "metadata": {},
     "output_type": "execute_result"
    }
   ],
   "source": [
    "# Alternative for ridge regression. Will receive better errors, but also more prone to overfitting.\n",
    "\n",
    "\"\"\"from sklearn.linear_model import Ridge\n",
    "results = []\n",
    "for degree in range(degree_min,degree_max+1):\n",
    "    model = make_pipeline(PolynomialFeatures(degree, interaction_only=False), Ridge())\n",
    "    model.fit(x,y)\n",
    "    results.append(model)\"\"\""
   ]
  },
  {
   "cell_type": "markdown",
   "metadata": {},
   "source": [
    "Plot all resulting plots of fitted polynomials and calculate errors.\n",
    "\n",
    "#### Plot for each polynomial degree"
   ]
  },
  {
   "cell_type": "code",
   "execution_count": 117,
   "metadata": {
    "scrolled": true
   },
   "outputs": [
    {
     "data": {
      "text/plain": [
       "Text(0, 0.5, 'Jahresmittel NO2')"
      ]
     },
     "execution_count": 117,
     "metadata": {},
     "output_type": "execute_result"
    },
    {
     "data": {
      "image/png": "[encoded data removed]",
      "text/plain": [
       "<Figure size 432x288 with 1 Axes>"
      ]
     },
     "metadata": {
      "needs_background": "light"
     },
     "output_type": "display_data"
    }
   ],
   "source": [
    "vals = np.arange(min(x),max(x)).reshape(-1,1)\n",
    "plt.plot(vals, results[0].predict(vals), color=(227/255, 89/255, 79/255))#, s=0.001)\n",
    "plt.scatter(x,y)\n",
    "plt.title(\"Quadratisch\")\n",
    "plt.xlabel(\"KFZ Insgesamt\")\n",
    "plt.ylabel(\"Jahresmittel NO2\")"
   ]
  },
  {
   "cell_type": "code",
   "execution_count": 230,
   "metadata": {},
   "outputs": [
    {
     "name": "stdout",
     "output_type": "stream",
     "text": [
      "Mean absolute error: 7.85\n",
      "Residual sum of squares (MSE): 99.54\n"
     ]
    }
   ],
   "source": [
    "print(\"Mean absolute error: %.2f\" % np.mean(np.absolute(results[0].predict(x) - y)))\n",
    "print(\"Residual sum of squares (MSE): %.2f\" % np.mean((results[0].predict(x) - y) ** 2))"
   ]
  },
  {
   "cell_type": "code",
   "execution_count": 119,
   "metadata": {
    "scrolled": true
   },
   "outputs": [
    {
     "data": {
      "text/plain": [
       "Text(0, 0.5, 'Jahresmittel NO2')"
      ]
     },
     "execution_count": 119,
     "metadata": {},
     "output_type": "execute_result"
    },
    {
     "data": {
      "image/png": "[encoded data removed]",
      "text/plain": [
       "<Figure size 432x288 with 1 Axes>"
      ]
     },
     "metadata": {
      "needs_background": "light"
     },
     "output_type": "display_data"
    }
   ],
   "source": [
    "plt.plot(vals, results[1].predict(vals), color=(227/255, 89/255, 79/255))#, s=0.001)\n",
    "plt.scatter(x,y)\n",
    "plt.title(\"Kubisch\")\n",
    "plt.xlabel(\"KFZ Insgesamt\")\n",
    "plt.ylabel(\"Jahresmittel NO2\")"
   ]
  },
  {
   "cell_type": "code",
   "execution_count": 231,
   "metadata": {},
   "outputs": [
    {
     "name": "stdout",
     "output_type": "stream",
     "text": [
      "Mean absolute error: 7.91\n",
      "Residual sum of squares (MSE): 101.89\n"
     ]
    }
   ],
   "source": [
    "print(\"Mean absolute error: %.2f\" % np.mean(np.absolute(results[1].predict(x) - y)))\n",
    "print(\"Residual sum of squares (MSE): %.2f\" % np.mean((results[1].predict(x) - y) ** 2))"
   ]
  },
  {
   "cell_type": "code",
   "execution_count": 121,
   "metadata": {
    "scrolled": true
   },
   "outputs": [
    {
     "data": {
      "text/plain": [
       "Text(0, 0.5, 'Jahresmittel NO2')"
      ]
     },
     "execution_count": 121,
     "metadata": {},
     "output_type": "execute_result"
    },
    {
     "data": {
      "image/png": "[encoded data removed]",
      "text/plain": [
       "<Figure size 432x288 with 1 Axes>"
      ]
     },
     "metadata": {
      "needs_background": "light"
     },
     "output_type": "display_data"
    }
   ],
   "source": [
    "plt.plot(vals, results[2].predict(vals), color=(227/255, 89/255, 79/255))#, s=0.001)\n",
    "plt.scatter(x,y)\n",
    "plt.title(\"^4\")\n",
    "plt.xlabel(\"KFZ Insgesamt\")\n",
    "plt.ylabel(\"Jahresmittel NO2\")"
   ]
  },
  {
   "cell_type": "code",
   "execution_count": 232,
   "metadata": {},
   "outputs": [
    {
     "name": "stdout",
     "output_type": "stream",
     "text": [
      "Mean absolute error: 7.91\n",
      "Residual sum of squares (MSE): 102.05\n"
     ]
    }
   ],
   "source": [
    "print(\"Mean absolute error: %.2f\" % np.mean(np.absolute(results[2].predict(x) - y)))\n",
    "print(\"Residual sum of squares (MSE): %.2f\" % np.mean((results[2].predict(x) - y) ** 2))"
   ]
  },
  {
   "cell_type": "code",
   "execution_count": 123,
   "metadata": {
    "scrolled": true
   },
   "outputs": [
    {
     "data": {
      "text/plain": [
       "Text(0, 0.5, 'Jahresmittel NO2')"
      ]
     },
     "execution_count": 123,
     "metadata": {},
     "output_type": "execute_result"
    },
    {
     "data": {
      "image/png": "[encoded data removed]",
      "text/plain": [
       "<Figure size 432x288 with 1 Axes>"
      ]
     },
     "metadata": {
      "needs_background": "light"
     },
     "output_type": "display_data"
    }
   ],
   "source": [
    "plt.plot(vals, results[3].predict(vals), color=(227/255, 89/255, 79/255))#, s=0.001)\n",
    "plt.scatter(x,y)\n",
    "plt.title(\"^5\")\n",
    "plt.xlabel(\"KFZ Insgesamt\")\n",
    "plt.ylabel(\"Jahresmittel NO2\")"
   ]
  },
  {
   "cell_type": "code",
   "execution_count": 233,
   "metadata": {},
   "outputs": [
    {
     "name": "stdout",
     "output_type": "stream",
     "text": [
      "Mean absolute error: 7.91\n",
      "Residual sum of squares (MSE): 102.14\n"
     ]
    }
   ],
   "source": [
    "print(\"Mean absolute error: %.2f\" % np.mean(np.absolute(results[3].predict(x) - y)))\n",
    "print(\"Residual sum of squares (MSE): %.2f\" % np.mean((results[3].predict(x) - y) ** 2))"
   ]
  },
  {
   "cell_type": "code",
   "execution_count": 125,
   "metadata": {
    "scrolled": true
   },
   "outputs": [
    {
     "data": {
      "text/plain": [
       "Text(0, 0.5, 'Jahresmittel NO2')"
      ]
     },
     "execution_count": 125,
     "metadata": {},
     "output_type": "execute_result"
    },
    {
     "data": {
      "image/png": "[encoded data removed]",
      "text/plain": [
       "<Figure size 432x288 with 1 Axes>"
      ]
     },
     "metadata": {
      "needs_background": "light"
     },
     "output_type": "display_data"
    }
   ],
   "source": [
    "plt.plot(vals, results[4].predict(vals), color=(227/255, 89/255, 79/255))#, s=0.001)\n",
    "plt.scatter(x,y)\n",
    "plt.title(\"^6\")\n",
    "plt.xlabel(\"KFZ Insgesamt\")\n",
    "plt.ylabel(\"Jahresmittel NO2\")"
   ]
  },
  {
   "cell_type": "code",
   "execution_count": 234,
   "metadata": {},
   "outputs": [
    {
     "name": "stdout",
     "output_type": "stream",
     "text": [
      "Mean absolute error: 7.90\n",
      "Residual sum of squares (MSE): 101.90\n"
     ]
    }
   ],
   "source": [
    "print(\"Mean absolute error: %.2f\" % np.mean(np.absolute(results[4].predict(x) - y)))\n",
    "print(\"Residual sum of squares (MSE): %.2f\" % np.mean((results[4].predict(x) - y) ** 2))"
   ]
  },
  {
   "cell_type": "code",
   "execution_count": 127,
   "metadata": {
    "scrolled": true
   },
   "outputs": [
    {
     "data": {
      "text/plain": [
       "Text(0, 0.5, 'Jahresmittel NO2')"
      ]
     },
     "execution_count": 127,
     "metadata": {},
     "output_type": "execute_result"
    },
    {
     "data": {
      "image/png": "[encoded data removed]",
      "text/plain": [
       "<Figure size 432x288 with 1 Axes>"
      ]
     },
     "metadata": {
      "needs_background": "light"
     },
     "output_type": "display_data"
    }
   ],
   "source": [
    "plt.plot(vals, results[5].predict(vals), color=(227/255, 89/255, 79/255))#, s=0.001)\n",
    "plt.scatter(x,y)\n",
    "plt.title(\"^7\")\n",
    "plt.xlabel(\"KFZ Insgesamt\")\n",
    "plt.ylabel(\"Jahresmittel NO2\")"
   ]
  },
  {
   "cell_type": "code",
   "execution_count": 235,
   "metadata": {},
   "outputs": [
    {
     "name": "stdout",
     "output_type": "stream",
     "text": [
      "Mean absolute error: 7.91\n",
      "Residual sum of squares (MSE): 102.42\n"
     ]
    }
   ],
   "source": [
    "print(\"Mean absolute error: %.2f\" % np.mean(np.absolute(results[5].predict(x) - y)))\n",
    "print(\"Residual sum of squares (MSE): %.2f\" % np.mean((results[5].predict(x) - y) ** 2))"
   ]
  },
  {
   "cell_type": "code",
   "execution_count": 129,
   "metadata": {},
   "outputs": [
    {
     "data": {
      "text/plain": [
       "Text(0, 0.5, 'Jahresmittel NO2')"
      ]
     },
     "execution_count": 129,
     "metadata": {},
     "output_type": "execute_result"
    },
    {
     "data": {
      "image/png": "[encoded data removed]",
      "text/plain": [
       "<Figure size 432x288 with 1 Axes>"
      ]
     },
     "metadata": {
      "needs_background": "light"
     },
     "output_type": "display_data"
    }
   ],
   "source": [
    "plt.plot(vals, results[6].predict(vals), color=(227/255, 89/255, 79/255))#, s=0.001)\n",
    "plt.scatter(x,y)\n",
    "plt.title(\"^8\")\n",
    "plt.xlabel(\"KFZ Insgesamt\")\n",
    "plt.ylabel(\"Jahresmittel NO2\")"
   ]
  },
  {
   "cell_type": "code",
   "execution_count": 236,
   "metadata": {},
   "outputs": [
    {
     "name": "stdout",
     "output_type": "stream",
     "text": [
      "Mean absolute error: 7.94\n",
      "Residual sum of squares (MSE): 103.38\n"
     ]
    }
   ],
   "source": [
    "print(\"Mean absolute error: %.2f\" % np.mean(np.absolute(results[6].predict(x) - y)))\n",
    "print(\"Residual sum of squares (MSE): %.2f\" % np.mean((results[6].predict(x) - y) ** 2))"
   ]
  },
  {
   "cell_type": "markdown",
   "metadata": {},
   "source": [
    "While ridge regression achieves better MSE scores on the data fit, lasso regression may reduce overfitting.\n",
    "* lowest MSE is achieved by quadratic polynomial\n",
    "\n",
    "Thinking about the problem, most polynomials don't seem to fit the question very well. As e.g. the best fit quadratic polynomial would result in lower NO2 values for very high vehicle counts. Ending on a positive slope with another polynomial would also not be logical.\n",
    "\n",
    "One theory is, that a log curve would well describe the data, as streets do have a max capacity, so even with more vehicles registered, there may not be more vehicles driving at the same time. \n",
    "\n",
    "Following: Fitting of log funktion to data"
   ]
  },
  {
   "cell_type": "code",
   "execution_count": 203,
   "metadata": {},
   "outputs": [],
   "source": [
    "from scipy import optimize\n",
    "def f(x, a, b):\n",
    "    return a * np.log(x * b)"
   ]
  },
  {
   "cell_type": "code",
   "execution_count": 204,
   "metadata": {},
   "outputs": [],
   "source": [
    "params, params_covariance = optimize.curve_fit(f, sum_no2[\"Insgesamt\"], sum_no2[\"jahresmittel\"])"
   ]
  },
  {
   "cell_type": "code",
   "execution_count": 240,
   "metadata": {
    "scrolled": true
   },
   "outputs": [
    {
     "data": {
      "image/png": "[encoded data removed]",
      "text/plain": [
       "<Figure size 432x288 with 1 Axes>"
      ]
     },
     "metadata": {
      "needs_background": "light"
     },
     "output_type": "display_data"
    }
   ],
   "source": [
    "plt.scatter(sum_no2[\"Insgesamt\"], sum_no2[\"jahresmittel\"])\n",
    "plt.plot(vals, f(vals, params[0], params[1]), color=(227/255, 89/255, 79/255))\n",
    "plt.xlabel(\"KFZ Insgesamt\")\n",
    "plt.ylabel(\"Stickstoff Jahresmittel (μg/m³)\")\n",
    "#plt.savefig(\"log_curve_fit.png\")"
   ]
  },
  {
   "cell_type": "code",
   "execution_count": 237,
   "metadata": {},
   "outputs": [],
   "source": [
    "vals_log = f(x, params[0], params[1])"
   ]
  },
  {
   "cell_type": "code",
   "execution_count": 238,
   "metadata": {},
   "outputs": [
    {
     "name": "stdout",
     "output_type": "stream",
     "text": [
      "Mean absolute error: 5.73\n",
      "Residual sum of squares (MSE): 52.11\n"
     ]
    }
   ],
   "source": [
    "print(\"Mean absolute error: %.2f\" % np.mean(np.absolute(vals_log - y)))\n",
    "print(\"Residual sum of squares (MSE): %.2f\" % np.mean((vals_log - y) ** 2))"
   ]
  },
  {
   "cell_type": "code",
   "execution_count": null,
   "metadata": {},
   "outputs": [],
   "source": []
  }
 ],
 "metadata": {
  "kernelspec": {
   "display_name": "Python 3",
   "language": "python",
   "name": "python3"
  },
  "language_info": {
   "codemirror_mode": {
    "name": "ipython",
    "version": 3
   },
   "file_extension": ".py",
   "mimetype": "text/x-python",
   "name": "python",
   "nbconvert_exporter": "python",
   "pygments_lexer": "ipython3",
   "version": "3.7.6"
  }
 },
 "nbformat": 4,
 "nbformat_minor": 4
}
