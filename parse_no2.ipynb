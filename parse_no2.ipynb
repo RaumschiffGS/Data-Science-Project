{
 "cells": [
  {
   "cell_type": "markdown",
   "metadata": {},
   "source": [
    "# Parsing no2 files\n",
    "* read csv file\n",
    "* skip empty lines\n",
    "* read in lines for DF\n",
    "* add 'bundesland' and year as new columns"
   ]
  },
  {
   "cell_type": "code",
   "execution_count": 1,
   "metadata": {},
   "outputs": [],
   "source": [
    "import pandas as pd\n",
    "import numpy as np\n",
    "import matplotlib.pyplot as plt\n",
    "import glob\n",
    "%matplotlib inline"
   ]
  },
  {
   "cell_type": "code",
   "execution_count": 2,
   "metadata": {},
   "outputs": [],
   "source": [
    "paths = glob.glob(\"DataScienceProjekt/Stickstoff/CSV/*\")"
   ]
  },
  {
   "cell_type": "code",
   "execution_count": 3,
   "metadata": {},
   "outputs": [],
   "source": [
    "#path = \"DataScienceProjekt/Stickstoff/CSV/no2_2002.csv\""
   ]
  },
  {
   "cell_type": "code",
   "execution_count": 20,
   "metadata": {},
   "outputs": [],
   "source": [
    "dfs = []\n",
    "\n",
    "for file in paths:\n",
    "    year = file.split(\"_\")[-1].split(\".\")[0]\n",
    "  \n",
    "    data = []\n",
    "    ofile = open(file, \"r\")\n",
    "    start = False\n",
    "    bundesland = None\n",
    "    linec = 0\n",
    "    for line in ofile:\n",
    "        linec+=1\n",
    "        if start == False:\n",
    "            if line.lower().startswith(\"stat\"):\n",
    "                start = True\n",
    "        else:    \n",
    "            if line.startswith(\"@\"):\n",
    "                bundesland = line.split(\"@\")[1]\n",
    "                if bundesland == \"\": continue\n",
    "            else:\n",
    "                data.append((bundesland + \"@\" + year +\"@\"+line.replace(\"\\n\", \"\")).split(\"@\")[:8])\n",
    "                \n",
    "    ofile.close()\n",
    "    \n",
    "    dfs.append(pd.DataFrame(data, columns= [\"bundesland\", \"jahr\", \"station\", \"name\", \"umgebungstyp\", \"emissionstyp\", \"jahresmittel\", \"maxstundenwert\"]))\n",
    "    "
   ]
  },
  {
   "cell_type": "code",
   "execution_count": null,
   "metadata": {},
   "outputs": [],
   "source": [
    "#stickstoff = pd.DataFrame(data, columns= [\"station\", \"name\", \"umgebungstyp\", \"emissionstyp\", \"jahresmittel\", \"maxstundenwert\", \">290\",\">200\",\"bundesland\", \"jahr\"])"
   ]
  },
  {
   "cell_type": "markdown",
   "metadata": {},
   "source": [
    "* nicht erfasste Daten als \"---\"\n",
    "* \"n*\\\\-1)\"\n",
    "* Stations teilweise mit '   '"
   ]
  },
  {
   "cell_type": "code",
   "execution_count": null,
   "metadata": {},
   "outputs": [],
   "source": []
  }
 ],
 "metadata": {
  "kernelspec": {
   "display_name": "Python 3",
   "language": "python",
   "name": "python3"
  },
  "language_info": {
   "codemirror_mode": {
    "name": "ipython",
    "version": 3
   },
   "file_extension": ".py",
   "mimetype": "text/x-python",
   "name": "python",
   "nbconvert_exporter": "python",
   "pygments_lexer": "ipython3",
   "version": "3.7.6"
  }
 },
 "nbformat": 4,
 "nbformat_minor": 4
}
