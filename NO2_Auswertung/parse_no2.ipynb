{
 "cells": [
  {
   "cell_type": "markdown",
   "metadata": {},
   "source": [
    "# Parsing no2 files\n",
    "* read csv file\n",
    "* skip empty lines\n",
    "* read in lines for DF\n",
    "* add 'bundesland' and year as new columns"
   ]
  },
  {
   "cell_type": "code",
   "execution_count": 1,
   "metadata": {},
   "outputs": [],
   "source": [
    "import pandas as pd\n",
    "import numpy as np\n",
    "import matplotlib.pyplot as plt\n",
    "import glob\n",
    "%matplotlib inline"
   ]
  },
  {
   "cell_type": "code",
   "execution_count": 2,
   "metadata": {},
   "outputs": [],
   "source": [
    "paths = glob.glob(\"*.csv\")"
   ]
  },
  {
   "cell_type": "code",
   "execution_count": 3,
   "metadata": {},
   "outputs": [],
   "source": [
    "#path = \"DataScienceProjekt/Stickstoff/CSV/no2_2002.csv\""
   ]
  },
  {
   "cell_type": "code",
   "execution_count": 4,
   "metadata": {},
   "outputs": [],
   "source": [
    "dfs = []\n",
    "\n",
    "for file in paths:\n",
    "    year = file.split(\"_\")[-1].split(\".\")[0]\n",
    "  \n",
    "    data = []\n",
    "    ofile = open(file, \"r\")\n",
    "    start = False\n",
    "    bundesland = None\n",
    "    linec = 0\n",
    "    for line in ofile:\n",
    "        linec+=1\n",
    "        if start == False:\n",
    "            if line.lower().startswith(\"stat\"):\n",
    "                start = True\n",
    "        else:    \n",
    "            if line.startswith(\"@\"):\n",
    "                bundesland = line.split(\"@\")[1]\n",
    "                if bundesland == \"\": continue\n",
    "            else:\n",
    "                data.append((bundesland + \"@\" + year +\"@\"+line.replace(\"\\n\", \"\")).split(\"@\")[:8])\n",
    "                \n",
    "    ofile.close()\n",
    "    \n",
    "    dfs.append(pd.DataFrame(data, columns= [\"bundesland\", \"jahr\", \"station\", \"name\", \"umgebungstyp\", \"emissionstyp\", \"jahresmittel\", \"maxstundenwert\"]))\n",
    "    "
   ]
  },
  {
   "cell_type": "code",
   "execution_count": 5,
   "metadata": {},
   "outputs": [],
   "source": [
    "#stickstoff = pd.DataFrame(data, columns= [\"station\", \"name\", \"umgebungstyp\", \"emissionstyp\", \"jahresmittel\", \"maxstundenwert\", \">290\",\">200\",\"bundesland\", \"jahr\"])"
   ]
  },
  {
   "cell_type": "markdown",
   "metadata": {},
   "source": [
    "* nicht erfasste Daten als \"---\"\n",
    "* \"n*\\\\-1)\"\n",
    "* Stations teilweise mit '   '\n",
    "* UBA"
   ]
  },
  {
   "cell_type": "code",
   "execution_count": 6,
   "metadata": {},
   "outputs": [
    {
     "data": {
      "text/html": [
       "<div>\n",
       "<style scoped>\n",
       "    .dataframe tbody tr th:only-of-type {\n",
       "        vertical-align: middle;\n",
       "    }\n",
       "\n",
       "    .dataframe tbody tr th {\n",
       "        vertical-align: top;\n",
       "    }\n",
       "\n",
       "    .dataframe thead th {\n",
       "        text-align: right;\n",
       "    }\n",
       "</style>\n",
       "<table border=\"1\" class=\"dataframe\">\n",
       "  <thead>\n",
       "    <tr style=\"text-align: right;\">\n",
       "      <th></th>\n",
       "      <th>bundesland</th>\n",
       "      <th>jahr</th>\n",
       "      <th>station</th>\n",
       "      <th>name</th>\n",
       "      <th>umgebungstyp</th>\n",
       "      <th>emissionstyp</th>\n",
       "      <th>jahresmittel</th>\n",
       "      <th>maxstundenwert</th>\n",
       "    </tr>\n",
       "  </thead>\n",
       "  <tbody>\n",
       "    <tr>\n",
       "      <th>0</th>\n",
       "      <td>Brandenburg</td>\n",
       "      <td>2002</td>\n",
       "      <td>'DEBB001'</td>\n",
       "      <td>Burg (Spreewald)</td>\n",
       "      <td>vorstädtisches Gebiet</td>\n",
       "      <td>Hintergrund</td>\n",
       "      <td>10</td>\n",
       "      <td>69</td>\n",
       "    </tr>\n",
       "    <tr>\n",
       "      <th>1</th>\n",
       "      <td>Brandenburg</td>\n",
       "      <td>2002</td>\n",
       "      <td>'DEBB006'</td>\n",
       "      <td>Cottbus-Süd</td>\n",
       "      <td>städtisches Gebiet</td>\n",
       "      <td>Hintergrund</td>\n",
       "      <td>19</td>\n",
       "      <td>107</td>\n",
       "    </tr>\n",
       "    <tr>\n",
       "      <th>2</th>\n",
       "      <td>Brandenburg</td>\n",
       "      <td>2002</td>\n",
       "      <td>'DEBB009'</td>\n",
       "      <td>Forst</td>\n",
       "      <td>vorstädtisches Gebiet</td>\n",
       "      <td>Hintergrund</td>\n",
       "      <td>16</td>\n",
       "      <td>83</td>\n",
       "    </tr>\n",
       "    <tr>\n",
       "      <th>3</th>\n",
       "      <td>Brandenburg</td>\n",
       "      <td>2002</td>\n",
       "      <td>'DEBB021'</td>\n",
       "      <td>Potsdam-Zentrum</td>\n",
       "      <td>städtisches Gebiet</td>\n",
       "      <td>Hintergrund</td>\n",
       "      <td>21</td>\n",
       "      <td>111</td>\n",
       "    </tr>\n",
       "    <tr>\n",
       "      <th>4</th>\n",
       "      <td>Brandenburg</td>\n",
       "      <td>2002</td>\n",
       "      <td>'DEBB024'</td>\n",
       "      <td>Senftenberg</td>\n",
       "      <td>städtisches Gebiet</td>\n",
       "      <td>Hintergrund</td>\n",
       "      <td>19</td>\n",
       "      <td>113</td>\n",
       "    </tr>\n",
       "    <tr>\n",
       "      <th>...</th>\n",
       "      <td>...</td>\n",
       "      <td>...</td>\n",
       "      <td>...</td>\n",
       "      <td>...</td>\n",
       "      <td>...</td>\n",
       "      <td>...</td>\n",
       "      <td>...</td>\n",
       "      <td>...</td>\n",
       "    </tr>\n",
       "    <tr>\n",
       "      <th>445</th>\n",
       "      <td>UBA</td>\n",
       "      <td>2002</td>\n",
       "      <td>'DEUB038'</td>\n",
       "      <td>Aukrug</td>\n",
       "      <td>ländliches Gebiet</td>\n",
       "      <td>Hintergrund</td>\n",
       "      <td>13</td>\n",
       "      <td>65</td>\n",
       "    </tr>\n",
       "    <tr>\n",
       "      <th>446</th>\n",
       "      <td>UBA</td>\n",
       "      <td>2002</td>\n",
       "      <td>'DEUB039'</td>\n",
       "      <td>Falkenberg</td>\n",
       "      <td>ländliches Gebiet</td>\n",
       "      <td>Hintergrund</td>\n",
       "      <td>9</td>\n",
       "      <td>57</td>\n",
       "    </tr>\n",
       "    <tr>\n",
       "      <th>447</th>\n",
       "      <td>UBA</td>\n",
       "      <td>2002</td>\n",
       "      <td>'DEUB040'</td>\n",
       "      <td>Schorfheide</td>\n",
       "      <td>ländliches Gebiet</td>\n",
       "      <td>Hintergrund</td>\n",
       "      <td>8</td>\n",
       "      <td>69</td>\n",
       "    </tr>\n",
       "    <tr>\n",
       "      <th>448</th>\n",
       "      <td>UBA</td>\n",
       "      <td>2002</td>\n",
       "      <td>'DEUB041'</td>\n",
       "      <td>Raisting</td>\n",
       "      <td>ländliches Gebiet</td>\n",
       "      <td>Hintergrund</td>\n",
       "      <td>9</td>\n",
       "      <td>69</td>\n",
       "    </tr>\n",
       "    <tr>\n",
       "      <th>449</th>\n",
       "      <td>UBA</td>\n",
       "      <td>2002</td>\n",
       "      <td>'DEUB042'</td>\n",
       "      <td>Öhringen</td>\n",
       "      <td>ländliches Gebiet</td>\n",
       "      <td>Hintergrund</td>\n",
       "      <td>17</td>\n",
       "      <td>80</td>\n",
       "    </tr>\n",
       "  </tbody>\n",
       "</table>\n",
       "<p>450 rows × 8 columns</p>\n",
       "</div>"
      ],
      "text/plain": [
       "      bundesland  jahr    station              name           umgebungstyp  \\\n",
       "0    Brandenburg  2002  'DEBB001'  Burg (Spreewald)  vorstädtisches Gebiet   \n",
       "1    Brandenburg  2002  'DEBB006'       Cottbus-Süd     städtisches Gebiet   \n",
       "2    Brandenburg  2002  'DEBB009'             Forst  vorstädtisches Gebiet   \n",
       "3    Brandenburg  2002  'DEBB021'   Potsdam-Zentrum     städtisches Gebiet   \n",
       "4    Brandenburg  2002  'DEBB024'      Senftenberg      städtisches Gebiet   \n",
       "..           ...   ...        ...               ...                    ...   \n",
       "445          UBA  2002  'DEUB038'            Aukrug      ländliches Gebiet   \n",
       "446          UBA  2002  'DEUB039'        Falkenberg      ländliches Gebiet   \n",
       "447          UBA  2002  'DEUB040'       Schorfheide      ländliches Gebiet   \n",
       "448          UBA  2002  'DEUB041'          Raisting      ländliches Gebiet   \n",
       "449          UBA  2002  'DEUB042'          Öhringen      ländliches Gebiet   \n",
       "\n",
       "    emissionstyp jahresmittel maxstundenwert  \n",
       "0    Hintergrund           10             69  \n",
       "1    Hintergrund           19            107  \n",
       "2    Hintergrund           16             83  \n",
       "3    Hintergrund           21            111  \n",
       "4    Hintergrund           19            113  \n",
       "..           ...          ...            ...  \n",
       "445  Hintergrund           13             65  \n",
       "446  Hintergrund            9             57  \n",
       "447  Hintergrund            8             69  \n",
       "448  Hintergrund            9             69  \n",
       "449  Hintergrund           17             80  \n",
       "\n",
       "[450 rows x 8 columns]"
      ]
     },
     "execution_count": 6,
     "metadata": {},
     "output_type": "execute_result"
    }
   ],
   "source": [
    "dfs[0]"
   ]
  },
  {
   "cell_type": "code",
   "execution_count": 7,
   "metadata": {},
   "outputs": [
    {
     "data": {
      "text/html": [
       "<div>\n",
       "<style scoped>\n",
       "    .dataframe tbody tr th:only-of-type {\n",
       "        vertical-align: middle;\n",
       "    }\n",
       "\n",
       "    .dataframe tbody tr th {\n",
       "        vertical-align: top;\n",
       "    }\n",
       "\n",
       "    .dataframe thead th {\n",
       "        text-align: right;\n",
       "    }\n",
       "</style>\n",
       "<table border=\"1\" class=\"dataframe\">\n",
       "  <thead>\n",
       "    <tr style=\"text-align: right;\">\n",
       "      <th></th>\n",
       "      <th>bundesland</th>\n",
       "      <th>jahr</th>\n",
       "      <th>station</th>\n",
       "      <th>name</th>\n",
       "      <th>umgebungstyp</th>\n",
       "      <th>emissionstyp</th>\n",
       "      <th>jahresmittel</th>\n",
       "      <th>maxstundenwert</th>\n",
       "    </tr>\n",
       "  </thead>\n",
       "  <tbody>\n",
       "    <tr>\n",
       "      <th>1</th>\n",
       "      <td>Baden-Württemberg</td>\n",
       "      <td>2018</td>\n",
       "      <td>DEBW219</td>\n",
       "      <td>Backnang Eugen-Adolff-Straße</td>\n",
       "      <td>städtisches Gebiet</td>\n",
       "      <td>Verkehr</td>\n",
       "      <td>49</td>\n",
       "      <td>--- 1)</td>\n",
       "    </tr>\n",
       "    <tr>\n",
       "      <th>3</th>\n",
       "      <td>Baden-Württemberg</td>\n",
       "      <td>2018</td>\n",
       "      <td>DEBW213</td>\n",
       "      <td>Balingen Schömberger Straße</td>\n",
       "      <td>vorstädtisches Gebiet</td>\n",
       "      <td>Verkehr</td>\n",
       "      <td>31</td>\n",
       "      <td>--- 1)</td>\n",
       "    </tr>\n",
       "    <tr>\n",
       "      <th>7</th>\n",
       "      <td>Baden-Württemberg</td>\n",
       "      <td>2018</td>\n",
       "      <td>DEBW220</td>\n",
       "      <td>Esslingen Grabbrunnenstraße</td>\n",
       "      <td>städtisches Gebiet</td>\n",
       "      <td>Verkehr</td>\n",
       "      <td>45</td>\n",
       "      <td>--- 1)</td>\n",
       "    </tr>\n",
       "    <tr>\n",
       "      <th>11</th>\n",
       "      <td>Baden-Württemberg</td>\n",
       "      <td>2018</td>\n",
       "      <td>DEBW226</td>\n",
       "      <td>Friedrichshafen Maybachstraße</td>\n",
       "      <td>städtisches Gebiet</td>\n",
       "      <td>Verkehr</td>\n",
       "      <td>39</td>\n",
       "      <td>--- 1)</td>\n",
       "    </tr>\n",
       "    <tr>\n",
       "      <th>14</th>\n",
       "      <td>Baden-Württemberg</td>\n",
       "      <td>2018</td>\n",
       "      <td>DEBW151</td>\n",
       "      <td>Heidelberg Mittermaierstraße</td>\n",
       "      <td>städtisches Gebiet</td>\n",
       "      <td>Verkehr</td>\n",
       "      <td>38</td>\n",
       "      <td>--- 1)</td>\n",
       "    </tr>\n",
       "    <tr>\n",
       "      <th>...</th>\n",
       "      <td>...</td>\n",
       "      <td>...</td>\n",
       "      <td>...</td>\n",
       "      <td>...</td>\n",
       "      <td>...</td>\n",
       "      <td>...</td>\n",
       "      <td>...</td>\n",
       "      <td>...</td>\n",
       "    </tr>\n",
       "    <tr>\n",
       "      <th>512</th>\n",
       "      <td>Thüringen</td>\n",
       "      <td>2018</td>\n",
       "      <td>DETH098</td>\n",
       "      <td>Gera Theaterstr. PS</td>\n",
       "      <td>städtisches Gebiet</td>\n",
       "      <td>Verkehr</td>\n",
       "      <td>32</td>\n",
       "      <td>--- 1)</td>\n",
       "    </tr>\n",
       "    <tr>\n",
       "      <th>516</th>\n",
       "      <td>Thüringen</td>\n",
       "      <td>2018</td>\n",
       "      <td>DETH075</td>\n",
       "      <td>Jena Westbahnhofstr.</td>\n",
       "      <td>städtisches Gebiet</td>\n",
       "      <td>Verkehr</td>\n",
       "      <td>29</td>\n",
       "      <td>--- 1)</td>\n",
       "    </tr>\n",
       "    <tr>\n",
       "      <th>518</th>\n",
       "      <td>Thüringen</td>\n",
       "      <td>2018</td>\n",
       "      <td>DETH100</td>\n",
       "      <td>Mühlhausen Petristeinweg</td>\n",
       "      <td>städtisches Gebiet</td>\n",
       "      <td>Verkehr</td>\n",
       "      <td>36</td>\n",
       "      <td>--- 1)</td>\n",
       "    </tr>\n",
       "    <tr>\n",
       "      <th>524</th>\n",
       "      <td>Thüringen</td>\n",
       "      <td>2018</td>\n",
       "      <td>DETH102</td>\n",
       "      <td>Suhl Dr.Th.-Neubauer-Str.</td>\n",
       "      <td>städtisches Gebiet</td>\n",
       "      <td>Verkehr</td>\n",
       "      <td>32</td>\n",
       "      <td>--- 1)</td>\n",
       "    </tr>\n",
       "    <tr>\n",
       "      <th>526</th>\n",
       "      <td>Thüringen</td>\n",
       "      <td>2018</td>\n",
       "      <td>DETH101</td>\n",
       "      <td>Weimar Jenaer Str.</td>\n",
       "      <td>städtisches Gebiet</td>\n",
       "      <td>Verkehr</td>\n",
       "      <td>32</td>\n",
       "      <td>--- 1)</td>\n",
       "    </tr>\n",
       "  </tbody>\n",
       "</table>\n",
       "<p>137 rows × 8 columns</p>\n",
       "</div>"
      ],
      "text/plain": [
       "            bundesland  jahr  station                           name  \\\n",
       "1    Baden-Württemberg  2018  DEBW219   Backnang Eugen-Adolff-Straße   \n",
       "3    Baden-Württemberg  2018  DEBW213    Balingen Schömberger Straße   \n",
       "7    Baden-Württemberg  2018  DEBW220    Esslingen Grabbrunnenstraße   \n",
       "11   Baden-Württemberg  2018  DEBW226  Friedrichshafen Maybachstraße   \n",
       "14   Baden-Württemberg  2018  DEBW151   Heidelberg Mittermaierstraße   \n",
       "..                 ...   ...      ...                            ...   \n",
       "512          Thüringen  2018  DETH098            Gera Theaterstr. PS   \n",
       "516          Thüringen  2018  DETH075           Jena Westbahnhofstr.   \n",
       "518          Thüringen  2018  DETH100       Mühlhausen Petristeinweg   \n",
       "524          Thüringen  2018  DETH102      Suhl Dr.Th.-Neubauer-Str.   \n",
       "526          Thüringen  2018  DETH101             Weimar Jenaer Str.   \n",
       "\n",
       "              umgebungstyp emissionstyp jahresmittel maxstundenwert  \n",
       "1       städtisches Gebiet      Verkehr           49         --- 1)  \n",
       "3    vorstädtisches Gebiet      Verkehr           31         --- 1)  \n",
       "7       städtisches Gebiet      Verkehr           45         --- 1)  \n",
       "11      städtisches Gebiet      Verkehr           39         --- 1)  \n",
       "14      städtisches Gebiet      Verkehr           38         --- 1)  \n",
       "..                     ...          ...          ...            ...  \n",
       "512     städtisches Gebiet      Verkehr           32         --- 1)  \n",
       "516     städtisches Gebiet      Verkehr           29         --- 1)  \n",
       "518     städtisches Gebiet      Verkehr           36         --- 1)  \n",
       "524     städtisches Gebiet      Verkehr           32         --- 1)  \n",
       "526     städtisches Gebiet      Verkehr           32         --- 1)  \n",
       "\n",
       "[137 rows x 8 columns]"
      ]
     },
     "execution_count": 7,
     "metadata": {},
     "output_type": "execute_result"
    }
   ],
   "source": [
    "dfs[16][dfs[16][\"maxstundenwert\"].str.contains(\"-\")]"
   ]
  },
  {
   "cell_type": "code",
   "execution_count": 8,
   "metadata": {},
   "outputs": [
    {
     "data": {
      "text/plain": [
       "18"
      ]
     },
     "execution_count": 8,
     "metadata": {},
     "output_type": "execute_result"
    }
   ],
   "source": [
    "len(dfs)"
   ]
  },
  {
   "cell_type": "code",
   "execution_count": 9,
   "metadata": {},
   "outputs": [],
   "source": [
    "stickstoff = pd.concat(dfs, ignore_index = True)"
   ]
  },
  {
   "cell_type": "code",
   "execution_count": 10,
   "metadata": {
    "scrolled": true
   },
   "outputs": [
    {
     "data": {
      "text/html": [
       "<div>\n",
       "<style scoped>\n",
       "    .dataframe tbody tr th:only-of-type {\n",
       "        vertical-align: middle;\n",
       "    }\n",
       "\n",
       "    .dataframe tbody tr th {\n",
       "        vertical-align: top;\n",
       "    }\n",
       "\n",
       "    .dataframe thead th {\n",
       "        text-align: right;\n",
       "    }\n",
       "</style>\n",
       "<table border=\"1\" class=\"dataframe\">\n",
       "  <thead>\n",
       "    <tr style=\"text-align: right;\">\n",
       "      <th></th>\n",
       "      <th>bundesland</th>\n",
       "      <th>jahr</th>\n",
       "      <th>station</th>\n",
       "      <th>name</th>\n",
       "      <th>umgebungstyp</th>\n",
       "      <th>emissionstyp</th>\n",
       "      <th>jahresmittel</th>\n",
       "      <th>maxstundenwert</th>\n",
       "    </tr>\n",
       "  </thead>\n",
       "  <tbody>\n",
       "    <tr>\n",
       "      <th>0</th>\n",
       "      <td>Brandenburg</td>\n",
       "      <td>2002</td>\n",
       "      <td>'DEBB001'</td>\n",
       "      <td>Burg (Spreewald)</td>\n",
       "      <td>vorstädtisches Gebiet</td>\n",
       "      <td>Hintergrund</td>\n",
       "      <td>10</td>\n",
       "      <td>69</td>\n",
       "    </tr>\n",
       "    <tr>\n",
       "      <th>1</th>\n",
       "      <td>Brandenburg</td>\n",
       "      <td>2002</td>\n",
       "      <td>'DEBB006'</td>\n",
       "      <td>Cottbus-Süd</td>\n",
       "      <td>städtisches Gebiet</td>\n",
       "      <td>Hintergrund</td>\n",
       "      <td>19</td>\n",
       "      <td>107</td>\n",
       "    </tr>\n",
       "    <tr>\n",
       "      <th>2</th>\n",
       "      <td>Brandenburg</td>\n",
       "      <td>2002</td>\n",
       "      <td>'DEBB009'</td>\n",
       "      <td>Forst</td>\n",
       "      <td>vorstädtisches Gebiet</td>\n",
       "      <td>Hintergrund</td>\n",
       "      <td>16</td>\n",
       "      <td>83</td>\n",
       "    </tr>\n",
       "    <tr>\n",
       "      <th>3</th>\n",
       "      <td>Brandenburg</td>\n",
       "      <td>2002</td>\n",
       "      <td>'DEBB021'</td>\n",
       "      <td>Potsdam-Zentrum</td>\n",
       "      <td>städtisches Gebiet</td>\n",
       "      <td>Hintergrund</td>\n",
       "      <td>21</td>\n",
       "      <td>111</td>\n",
       "    </tr>\n",
       "    <tr>\n",
       "      <th>4</th>\n",
       "      <td>Brandenburg</td>\n",
       "      <td>2002</td>\n",
       "      <td>'DEBB024'</td>\n",
       "      <td>Senftenberg</td>\n",
       "      <td>städtisches Gebiet</td>\n",
       "      <td>Hintergrund</td>\n",
       "      <td>19</td>\n",
       "      <td>113</td>\n",
       "    </tr>\n",
       "    <tr>\n",
       "      <th>...</th>\n",
       "      <td>...</td>\n",
       "      <td>...</td>\n",
       "      <td>...</td>\n",
       "      <td>...</td>\n",
       "      <td>...</td>\n",
       "      <td>...</td>\n",
       "      <td>...</td>\n",
       "      <td>...</td>\n",
       "    </tr>\n",
       "    <tr>\n",
       "      <th>8681</th>\n",
       "      <td>Umweltbundesamt</td>\n",
       "      <td>2019</td>\n",
       "      <td>DEUB004</td>\n",
       "      <td>Schauinsland</td>\n",
       "      <td>ländlich regional</td>\n",
       "      <td>Hintergrund</td>\n",
       "      <td>2</td>\n",
       "      <td>0</td>\n",
       "    </tr>\n",
       "    <tr>\n",
       "      <th>8682</th>\n",
       "      <td>Umweltbundesamt</td>\n",
       "      <td>2019</td>\n",
       "      <td>DEUB029</td>\n",
       "      <td>Schmücke</td>\n",
       "      <td>ländliches Gebiet</td>\n",
       "      <td>Hintergrund</td>\n",
       "      <td>3</td>\n",
       "      <td>0</td>\n",
       "    </tr>\n",
       "    <tr>\n",
       "      <th>8683</th>\n",
       "      <td>Umweltbundesamt</td>\n",
       "      <td>2019</td>\n",
       "      <td>DEUB005</td>\n",
       "      <td>Waldhof</td>\n",
       "      <td>ländliches Gebiet</td>\n",
       "      <td>Hintergrund</td>\n",
       "      <td>7</td>\n",
       "      <td>0</td>\n",
       "    </tr>\n",
       "    <tr>\n",
       "      <th>8684</th>\n",
       "      <td>Umweltbundesamt</td>\n",
       "      <td>2019</td>\n",
       "      <td>DEUB001</td>\n",
       "      <td>Westerland</td>\n",
       "      <td>ländliches Gebiet</td>\n",
       "      <td>Hintergrund</td>\n",
       "      <td>5</td>\n",
       "      <td>0</td>\n",
       "    </tr>\n",
       "    <tr>\n",
       "      <th>8685</th>\n",
       "      <td>Umweltbundesamt</td>\n",
       "      <td>2019</td>\n",
       "      <td>DEUB028</td>\n",
       "      <td>Zingst</td>\n",
       "      <td>ländliches Gebiet</td>\n",
       "      <td>Hintergrund</td>\n",
       "      <td>5</td>\n",
       "      <td>0</td>\n",
       "    </tr>\n",
       "  </tbody>\n",
       "</table>\n",
       "<p>8686 rows × 8 columns</p>\n",
       "</div>"
      ],
      "text/plain": [
       "           bundesland  jahr    station              name  \\\n",
       "0         Brandenburg  2002  'DEBB001'  Burg (Spreewald)   \n",
       "1         Brandenburg  2002  'DEBB006'       Cottbus-Süd   \n",
       "2         Brandenburg  2002  'DEBB009'             Forst   \n",
       "3         Brandenburg  2002  'DEBB021'   Potsdam-Zentrum   \n",
       "4         Brandenburg  2002  'DEBB024'      Senftenberg    \n",
       "...               ...   ...        ...               ...   \n",
       "8681  Umweltbundesamt  2019    DEUB004      Schauinsland   \n",
       "8682  Umweltbundesamt  2019    DEUB029          Schmücke   \n",
       "8683  Umweltbundesamt  2019    DEUB005           Waldhof   \n",
       "8684  Umweltbundesamt  2019    DEUB001        Westerland   \n",
       "8685  Umweltbundesamt  2019    DEUB028            Zingst   \n",
       "\n",
       "               umgebungstyp emissionstyp jahresmittel maxstundenwert  \n",
       "0     vorstädtisches Gebiet  Hintergrund           10             69  \n",
       "1        städtisches Gebiet  Hintergrund           19            107  \n",
       "2     vorstädtisches Gebiet  Hintergrund           16             83  \n",
       "3        städtisches Gebiet  Hintergrund           21            111  \n",
       "4        städtisches Gebiet  Hintergrund           19            113  \n",
       "...                     ...          ...          ...            ...  \n",
       "8681      ländlich regional  Hintergrund            2              0  \n",
       "8682      ländliches Gebiet  Hintergrund            3              0  \n",
       "8683      ländliches Gebiet  Hintergrund            7              0  \n",
       "8684      ländliches Gebiet  Hintergrund            5              0  \n",
       "8685      ländliches Gebiet  Hintergrund            5              0  \n",
       "\n",
       "[8686 rows x 8 columns]"
      ]
     },
     "execution_count": 10,
     "metadata": {},
     "output_type": "execute_result"
    }
   ],
   "source": [
    "stickstoff"
   ]
  },
  {
   "cell_type": "markdown",
   "metadata": {},
   "source": [
    "* remove empty space and nonsense number (e.g. 47 2)"
   ]
  },
  {
   "cell_type": "code",
   "execution_count": 11,
   "metadata": {},
   "outputs": [],
   "source": [
    "def splitit(val):\n",
    "    if \" \" in val:\n",
    "        return val.split(\" \")[0]\n",
    "    else:\n",
    "        return val\n",
    "stickstoff[\"jahresmittel\"] = stickstoff[\"jahresmittel\"].apply(splitit)"
   ]
  },
  {
   "cell_type": "code",
   "execution_count": 12,
   "metadata": {},
   "outputs": [
    {
     "data": {
      "text/html": [
       "<div>\n",
       "<style scoped>\n",
       "    .dataframe tbody tr th:only-of-type {\n",
       "        vertical-align: middle;\n",
       "    }\n",
       "\n",
       "    .dataframe tbody tr th {\n",
       "        vertical-align: top;\n",
       "    }\n",
       "\n",
       "    .dataframe thead th {\n",
       "        text-align: right;\n",
       "    }\n",
       "</style>\n",
       "<table border=\"1\" class=\"dataframe\">\n",
       "  <thead>\n",
       "    <tr style=\"text-align: right;\">\n",
       "      <th></th>\n",
       "      <th>bundesland</th>\n",
       "      <th>jahr</th>\n",
       "      <th>station</th>\n",
       "      <th>name</th>\n",
       "      <th>umgebungstyp</th>\n",
       "      <th>emissionstyp</th>\n",
       "      <th>jahresmittel</th>\n",
       "      <th>maxstundenwert</th>\n",
       "    </tr>\n",
       "  </thead>\n",
       "  <tbody>\n",
       "    <tr>\n",
       "      <th>6246</th>\n",
       "      <td>Hessen</td>\n",
       "      <td>2015</td>\n",
       "      <td>DEHE131</td>\n",
       "      <td>Limburg-Schiede</td>\n",
       "      <td>städtisches Gebiet</td>\n",
       "      <td>Verkehr</td>\n",
       "      <td>-999</td>\n",
       "      <td>23</td>\n",
       "    </tr>\n",
       "  </tbody>\n",
       "</table>\n",
       "</div>"
      ],
      "text/plain": [
       "     bundesland  jahr  station             name        umgebungstyp  \\\n",
       "6246     Hessen  2015  DEHE131  Limburg-Schiede  städtisches Gebiet   \n",
       "\n",
       "     emissionstyp jahresmittel maxstundenwert  \n",
       "6246      Verkehr         -999             23  "
      ]
     },
     "execution_count": 12,
     "metadata": {},
     "output_type": "execute_result"
    }
   ],
   "source": [
    "stickstoff[stickstoff[\"jahresmittel\"]==\"-999\"]"
   ]
  },
  {
   "cell_type": "markdown",
   "metadata": {},
   "source": [
    "* replace , with . for easy type casting"
   ]
  },
  {
   "cell_type": "code",
   "execution_count": 13,
   "metadata": {},
   "outputs": [],
   "source": [
    "stickstoff[\"jahresmittel\"] = stickstoff[\"jahresmittel\"].str.replace(\",\",\".\")"
   ]
  },
  {
   "cell_type": "markdown",
   "metadata": {},
   "source": [
    "* cast column to float"
   ]
  },
  {
   "cell_type": "code",
   "execution_count": 14,
   "metadata": {},
   "outputs": [],
   "source": [
    "stickstoff[\"jahresmittel\"] = stickstoff[\"jahresmittel\"].astype(float)"
   ]
  },
  {
   "cell_type": "markdown",
   "metadata": {},
   "source": [
    "* drop row with extreme outlier -999"
   ]
  },
  {
   "cell_type": "code",
   "execution_count": 15,
   "metadata": {},
   "outputs": [],
   "source": [
    "stickstoff.drop(190, axis=0, inplace = True)"
   ]
  },
  {
   "cell_type": "markdown",
   "metadata": {},
   "source": [
    "* aggregate over years and plot mean jahresmittel values"
   ]
  },
  {
   "cell_type": "code",
   "execution_count": 16,
   "metadata": {},
   "outputs": [],
   "source": [
    "mean = stickstoff.groupby(\"jahr\").agg(\"mean\")"
   ]
  },
  {
   "cell_type": "code",
   "execution_count": 17,
   "metadata": {},
   "outputs": [
    {
     "data": {
      "text/plain": [
       "<matplotlib.axes._subplots.AxesSubplot at 0x1693378e3c8>"
      ]
     },
     "execution_count": 17,
     "metadata": {},
     "output_type": "execute_result"
    },
    {
     "data": {
      "image/png": "[encoded data removed]",
      "text/plain": [
       "<Figure size 432x288 with 1 Axes>"
      ]
     },
     "metadata": {
      "needs_background": "light"
     },
     "output_type": "display_data"
    }
   ],
   "source": [
    "mean.plot(ylim=(0,60))"
   ]
  },
  {
   "cell_type": "code",
   "execution_count": 18,
   "metadata": {},
   "outputs": [
    {
     "data": {
      "text/plain": [
       "array([ 121. ,  112. ,  109. ,  106. ,  104. ,  100. ,   99. ,   98. ,\n",
       "         97. ,   95. ,   93. ,   92. ,   91. ,   90. ,   89. ,   88. ,\n",
       "         87. ,   86. ,   85. ,   84. ,   83. ,   82. ,   81. ,   80. ,\n",
       "         79. ,   78. ,   77. ,   76. ,   75. ,   74. ,   73. ,   72. ,\n",
       "         71. ,   70. ,   69. ,   68. ,   67. ,   66. ,   65. ,   64. ,\n",
       "         63. ,   62. ,   61. ,   60. ,   59. ,   58. ,   57. ,   56. ,\n",
       "         55. ,   54. ,   53. ,   52. ,   51. ,   50. ,   49. ,   48. ,\n",
       "         47. ,   46. ,   45. ,   44. ,   43. ,   42. ,   41. ,   40. ,\n",
       "         39. ,   38. ,   37. ,   36. ,   35. ,   34. ,   33. ,   32. ,\n",
       "         31. ,   30. ,   29. ,   28. ,   27. ,   26. ,   25. ,   24. ,\n",
       "         23. ,   22. ,   21. ,   20. ,   19. ,   18. ,   17. ,   16. ,\n",
       "         15. ,   14. ,   13. ,   12. ,   11. ,   10. ,    9.8,    9.5,\n",
       "          9. ,    8.9,    8.8,    8.7,    8.6,    8.5,    8.4,    8.2,\n",
       "          8.1,    8. ,    7.8,    7.7,    7.6,    7.5,    7.2,    7. ,\n",
       "          6.7,    6.6,    6.4,    6.3,    6. ,    5.8,    5.7,    5.4,\n",
       "          5. ,    4.7,    4.6,    4.3,    4. ,    3. ,    2. ,    1.8,\n",
       "       -999. ])"
      ]
     },
     "execution_count": 18,
     "metadata": {},
     "output_type": "execute_result"
    }
   ],
   "source": [
    "stickstoff[\"jahresmittel\"].sort_values(ascending=False).unique()"
   ]
  },
  {
   "cell_type": "code",
   "execution_count": 19,
   "metadata": {},
   "outputs": [
    {
     "data": {
      "text/html": [
       "<div>\n",
       "<style scoped>\n",
       "    .dataframe tbody tr th:only-of-type {\n",
       "        vertical-align: middle;\n",
       "    }\n",
       "\n",
       "    .dataframe tbody tr th {\n",
       "        vertical-align: top;\n",
       "    }\n",
       "\n",
       "    .dataframe thead th {\n",
       "        text-align: right;\n",
       "    }\n",
       "</style>\n",
       "<table border=\"1\" class=\"dataframe\">\n",
       "  <thead>\n",
       "    <tr style=\"text-align: right;\">\n",
       "      <th></th>\n",
       "      <th>jahresmittel</th>\n",
       "    </tr>\n",
       "    <tr>\n",
       "      <th>jahr</th>\n",
       "      <th></th>\n",
       "    </tr>\n",
       "  </thead>\n",
       "  <tbody>\n",
       "    <tr>\n",
       "      <th>2002</th>\n",
       "      <td>26.596882</td>\n",
       "    </tr>\n",
       "    <tr>\n",
       "      <th>2003</th>\n",
       "      <td>28.833333</td>\n",
       "    </tr>\n",
       "    <tr>\n",
       "      <th>2004</th>\n",
       "      <td>26.660934</td>\n",
       "    </tr>\n",
       "    <tr>\n",
       "      <th>2005</th>\n",
       "      <td>27.724816</td>\n",
       "    </tr>\n",
       "    <tr>\n",
       "      <th>2006</th>\n",
       "      <td>30.661905</td>\n",
       "    </tr>\n",
       "    <tr>\n",
       "      <th>2007</th>\n",
       "      <td>29.403756</td>\n",
       "    </tr>\n",
       "    <tr>\n",
       "      <th>2008</th>\n",
       "      <td>30.709278</td>\n",
       "    </tr>\n",
       "    <tr>\n",
       "      <th>2009</th>\n",
       "      <td>32.964912</td>\n",
       "    </tr>\n",
       "    <tr>\n",
       "      <th>2010</th>\n",
       "      <td>33.384458</td>\n",
       "    </tr>\n",
       "    <tr>\n",
       "      <th>2011</th>\n",
       "      <td>32.405847</td>\n",
       "    </tr>\n",
       "    <tr>\n",
       "      <th>2012</th>\n",
       "      <td>31.891732</td>\n",
       "    </tr>\n",
       "    <tr>\n",
       "      <th>2013</th>\n",
       "      <td>31.137931</td>\n",
       "    </tr>\n",
       "    <tr>\n",
       "      <th>2014</th>\n",
       "      <td>29.830409</td>\n",
       "    </tr>\n",
       "    <tr>\n",
       "      <th>2015</th>\n",
       "      <td>27.258687</td>\n",
       "    </tr>\n",
       "    <tr>\n",
       "      <th>2016</th>\n",
       "      <td>29.059730</td>\n",
       "    </tr>\n",
       "    <tr>\n",
       "      <th>2017</th>\n",
       "      <td>27.916350</td>\n",
       "    </tr>\n",
       "    <tr>\n",
       "      <th>2018</th>\n",
       "      <td>27.611940</td>\n",
       "    </tr>\n",
       "    <tr>\n",
       "      <th>2019</th>\n",
       "      <td>24.864407</td>\n",
       "    </tr>\n",
       "  </tbody>\n",
       "</table>\n",
       "</div>"
      ],
      "text/plain": [
       "      jahresmittel\n",
       "jahr              \n",
       "2002     26.596882\n",
       "2003     28.833333\n",
       "2004     26.660934\n",
       "2005     27.724816\n",
       "2006     30.661905\n",
       "2007     29.403756\n",
       "2008     30.709278\n",
       "2009     32.964912\n",
       "2010     33.384458\n",
       "2011     32.405847\n",
       "2012     31.891732\n",
       "2013     31.137931\n",
       "2014     29.830409\n",
       "2015     27.258687\n",
       "2016     29.059730\n",
       "2017     27.916350\n",
       "2018     27.611940\n",
       "2019     24.864407"
      ]
     },
     "execution_count": 19,
     "metadata": {},
     "output_type": "execute_result"
    }
   ],
   "source": [
    "mean"
   ]
  },
  {
   "cell_type": "markdown",
   "metadata": {},
   "source": [
    "#### Check umgebungstyp variable"
   ]
  },
  {
   "cell_type": "code",
   "execution_count": 20,
   "metadata": {},
   "outputs": [
    {
     "data": {
      "text/plain": [
       "array(['vorstädtisches Gebiet', 'städtisches Gebiet', 'ländlich regional',\n",
       "       'ländlich stadtnah', 'ländliches Gebiet', 'ländlich Hintergrund',\n",
       "       'ländlich abgelegen', 'ländliches regional', 'ländlich reginal',\n",
       "       'ländliches stadtnah', 'städtisches Gebiet '], dtype=object)"
      ]
     },
     "execution_count": 20,
     "metadata": {},
     "output_type": "execute_result"
    }
   ],
   "source": [
    "stickstoff[\"umgebungstyp\"].unique()"
   ]
  },
  {
   "cell_type": "code",
   "execution_count": 21,
   "metadata": {},
   "outputs": [],
   "source": [
    "stickstoff[\"umgebungstyp\"] = stickstoff[\"umgebungstyp\"].str.strip(\" \").str.replace(\"reginal\",\"regional\").str.replace(\"ländliches\",\"ländlich\")"
   ]
  },
  {
   "cell_type": "code",
   "execution_count": 22,
   "metadata": {},
   "outputs": [],
   "source": [
    "def group_up(val):\n",
    "    if \"länd\" in val:\n",
    "        return \"ländlich\"\n",
    "    elif \"vorst\" in val:\n",
    "        return \"vorstädtisch\"\n",
    "    else:\n",
    "        return \"städtisch\""
   ]
  },
  {
   "cell_type": "code",
   "execution_count": 23,
   "metadata": {},
   "outputs": [],
   "source": [
    "stickstoff[\"umgebungstyp_grob\"] = stickstoff[\"umgebungstyp\"].apply(group_up)"
   ]
  },
  {
   "cell_type": "code",
   "execution_count": 24,
   "metadata": {},
   "outputs": [
    {
     "data": {
      "text/plain": [
       "array(['vorstädtisch', 'städtisch', 'ländlich'], dtype=object)"
      ]
     },
     "execution_count": 24,
     "metadata": {},
     "output_type": "execute_result"
    }
   ],
   "source": [
    "stickstoff[\"umgebungstyp_grob\"].unique()"
   ]
  },
  {
   "cell_type": "code",
   "execution_count": 25,
   "metadata": {},
   "outputs": [],
   "source": [
    "mean = stickstoff.groupby([\"jahr\", \"umgebungstyp_grob\"]).agg(\"mean\")"
   ]
  },
  {
   "cell_type": "code",
   "execution_count": 26,
   "metadata": {},
   "outputs": [],
   "source": [
    "mean_st = stickstoff[stickstoff[\"umgebungstyp_grob\"] == \"städtisch\"].groupby(\"jahr\").agg(\"mean\")"
   ]
  },
  {
   "cell_type": "code",
   "execution_count": 27,
   "metadata": {},
   "outputs": [],
   "source": [
    "mean_vs = stickstoff[stickstoff[\"umgebungstyp_grob\"] == \"vorstädtisch\"].groupby(\"jahr\").agg(\"mean\")"
   ]
  },
  {
   "cell_type": "code",
   "execution_count": 28,
   "metadata": {},
   "outputs": [],
   "source": [
    "mean_la = stickstoff[stickstoff[\"umgebungstyp_grob\"] == \"ländlich\"].groupby(\"jahr\").agg(\"mean\")"
   ]
  },
  {
   "cell_type": "code",
   "execution_count": 29,
   "metadata": {},
   "outputs": [
    {
     "data": {
      "text/plain": [
       "[<matplotlib.lines.Line2D at 0x16933fbab08>]"
      ]
     },
     "execution_count": 29,
     "metadata": {},
     "output_type": "execute_result"
    },
    {
     "data": {
      "image/png": "[encoded data removed]",
      "text/plain": [
       "<Figure size 432x288 with 1 Axes>"
      ]
     },
     "metadata": {
      "needs_background": "light"
     },
     "output_type": "display_data"
    }
   ],
   "source": [
    "plt.plot(mean_st)\n",
    "plt.plot(mean_vs)\n",
    "plt.plot(mean_la)"
   ]
  },
  {
   "cell_type": "code",
   "execution_count": 30,
   "metadata": {
    "scrolled": true
   },
   "outputs": [
    {
     "data": {
      "text/plain": [
       "array(['Brandenburg', 'Berlin', 'Baden-Württemberg', 'Bayern', 'Bremen',\n",
       "       'Hessen', 'Hamburg', 'Mecklenburg-Vorpommern', 'Niedersachsen',\n",
       "       'Nordrrhein-Westfalen', 'Rheinland-Pfalz', 'Schleswig-Holstein',\n",
       "       'Saarland', 'Sachsen', 'Sachsen-Anhalt', 'Thüringen', 'UBA',\n",
       "       'Nordrhein-Westfalen', 'Umweltbundesamt'], dtype=object)"
      ]
     },
     "execution_count": 30,
     "metadata": {},
     "output_type": "execute_result"
    }
   ],
   "source": [
    "stickstoff[\"bundesland\"].unique()"
   ]
  },
  {
   "cell_type": "markdown",
   "metadata": {},
   "source": [
    "* check umweltbundesamt"
   ]
  },
  {
   "cell_type": "code",
   "execution_count": 31,
   "metadata": {},
   "outputs": [
    {
     "data": {
      "text/plain": [
       "(78, 9)"
      ]
     },
     "execution_count": 31,
     "metadata": {},
     "output_type": "execute_result"
    }
   ],
   "source": [
    "stickstoff[stickstoff[\"bundesland\"] == \"UBA\"].shape"
   ]
  },
  {
   "cell_type": "code",
   "execution_count": 32,
   "metadata": {
    "scrolled": true
   },
   "outputs": [
    {
     "data": {
      "text/plain": [
       "(79, 9)"
      ]
     },
     "execution_count": 32,
     "metadata": {},
     "output_type": "execute_result"
    }
   ],
   "source": [
    "stickstoff[stickstoff[\"bundesland\"] == \"Umweltbundesamt\"].shape"
   ]
  },
  {
   "cell_type": "markdown",
   "metadata": {},
   "source": [
    "* Replace 'Ü' with 'UE' in Bundesland\n",
    "* to conform it to other dataset"
   ]
  },
  {
   "cell_type": "code",
   "execution_count": 33,
   "metadata": {},
   "outputs": [],
   "source": [
    "stickstoff[\"bundesland\"] = stickstoff[\"bundesland\"].str.upper().str.replace(\"Ü\", \"UE\")"
   ]
  },
  {
   "cell_type": "code",
   "execution_count": 34,
   "metadata": {
    "scrolled": true
   },
   "outputs": [
    {
     "data": {
      "text/plain": [
       "array(['BRANDENBURG', 'BERLIN', 'BADEN-WUERTTEMBERG', 'BAYERN', 'BREMEN',\n",
       "       'HESSEN', 'HAMBURG', 'MECKLENBURG-VORPOMMERN', 'NIEDERSACHSEN',\n",
       "       'NORDRRHEIN-WESTFALEN', 'RHEINLAND-PFALZ', 'SCHLESWIG-HOLSTEIN',\n",
       "       'SAARLAND', 'SACHSEN', 'SACHSEN-ANHALT', 'THUERINGEN', 'UBA',\n",
       "       'NORDRHEIN-WESTFALEN', 'UMWELTBUNDESAMT'], dtype=object)"
      ]
     },
     "execution_count": 34,
     "metadata": {},
     "output_type": "execute_result"
    }
   ],
   "source": [
    "stickstoff[\"bundesland\"].unique()"
   ]
  },
  {
   "cell_type": "markdown",
   "metadata": {},
   "source": [
    "* see if bundesländer are the same"
   ]
  },
  {
   "cell_type": "code",
   "execution_count": 35,
   "metadata": {},
   "outputs": [],
   "source": [
    "tester = \"BADEN-WUERTTEMBERG,BAYERN,BERLIN,BRANDENBURG,BREMEN,HAMBURG,HESSEN,MECKLENBURG-VORPOMMERN,NIEDERSACHSEN,NORDRHEIN-WESTFALEN,RHEINLAND-PFALZ,SAARLAND,SACHSEN,SACHSEN-ANHALT,SCHLESWIG-HOLSTEIN,THUERINGEN\""
   ]
  },
  {
   "cell_type": "code",
   "execution_count": 36,
   "metadata": {
    "scrolled": true
   },
   "outputs": [
    {
     "name": "stdout",
     "output_type": "stream",
     "text": [
      "NORDRRHEIN-WESTFALEN\n",
      "UBA\n",
      "UMWELTBUNDESAMT\n"
     ]
    }
   ],
   "source": [
    "for land in stickstoff[\"bundesland\"].unique():\n",
    "    if land not in tester.split(\",\"):\n",
    "        print(land)"
   ]
  },
  {
   "cell_type": "markdown",
   "metadata": {},
   "source": [
    "* correct name"
   ]
  },
  {
   "cell_type": "code",
   "execution_count": null,
   "metadata": {},
   "outputs": [],
   "source": [
    "stickstoff[\"bundesland\"] = stickstoff[\"bundesland\"].str.replace(\"NORDRRHEIN\", \"NORDRHEIN\")"
   ]
  },
  {
   "cell_type": "markdown",
   "metadata": {},
   "source": [
    "* translate to better names for matching with other dataset"
   ]
  },
  {
   "cell_type": "code",
   "execution_count": 38,
   "metadata": {},
   "outputs": [],
   "source": [
    "def translate(val):\n",
    "    val1 = val.replace(\"Ä\",\"AE\").replace(\"Ö\", \"OE\").replace(\"Ü\", \"UE\")\n",
    "    val1 = val1.upper()\n",
    "    return val1\n",
    "\n",
    "stickstoff[\"name\"] = stickstoff[\"name\"].apply(translate)"
   ]
  },
  {
   "cell_type": "code",
   "execution_count": 39,
   "metadata": {
    "scrolled": true
   },
   "outputs": [
    {
     "data": {
      "text/plain": [
       "0       BURG (SPREEWALD)\n",
       "1            COTTBUS-SÜD\n",
       "2                  FORST\n",
       "3        POTSDAM-ZENTRUM\n",
       "4           SENFTENBERG \n",
       "              ...       \n",
       "8681        SCHAUINSLAND\n",
       "8682            SCHMÜCKE\n",
       "8683             WALDHOF\n",
       "8684          WESTERLAND\n",
       "8685              ZINGST\n",
       "Name: name, Length: 8685, dtype: object"
      ]
     },
     "execution_count": 39,
     "metadata": {},
     "output_type": "execute_result"
    }
   ],
   "source": [
    "stickstoff[\"name\"]"
   ]
  },
  {
   "cell_type": "markdown",
   "metadata": {},
   "source": [
    "* save as pickle"
   ]
  },
  {
   "cell_type": "code",
   "execution_count": 40,
   "metadata": {},
   "outputs": [],
   "source": [
    "stickstoff.to_pickle(\"stickstoff_daten.pkl\")"
   ]
  },
  {
   "cell_type": "code",
   "execution_count": null,
   "metadata": {},
   "outputs": [],
   "source": []
  }
 ],
 "metadata": {
  "anaconda-cloud": {},
  "kernelspec": {
   "display_name": "Python 3",
   "language": "python",
   "name": "python3"
  },
  "language_info": {
   "codemirror_mode": {
    "name": "ipython",
    "version": 3
   },
   "file_extension": ".py",
   "mimetype": "text/x-python",
   "name": "python",
   "nbconvert_exporter": "python",
   "pygments_lexer": "ipython3",
   "version": "3.7.6"
  }
 },
 "nbformat": 4,
 "nbformat_minor": 4
}
