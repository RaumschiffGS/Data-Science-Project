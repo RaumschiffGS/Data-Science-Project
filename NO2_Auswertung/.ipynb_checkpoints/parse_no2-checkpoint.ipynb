{
 "cells": [
  {
   "cell_type": "markdown",
   "metadata": {},
   "source": [
    "# Importing nitrogen measurement files\n",
    "\n",
    "From the Umweltbundesamt data for all nitrogen measurement stations in Germany have been downloaded.\n",
    "This data is contained in highly formatted Excel files. For further analysis within python the excel formatting as well as potential images need to be removed:\n",
    "\n",
    "* transform xlsx files to csv\n",
    "\n",
    "Further, due to formatting for human eyes data is not yet stored well for machine input. The following steps are taken to turn the semi-structured csv into a easily usable dataframe (pandas):\n",
    "\n",
    "* read each csv file\n",
    "* skip empty lines\n",
    "* read in lines one by one\n",
    "* remember 'bundesland' lines \n",
    "* add 'regular' lines as DF rows, add year and bundesland as additional columns\n",
    "* turn individual rows into dataframe and merge dataframes for each file"
   ]
  },
  {
   "cell_type": "code",
   "execution_count": 1,
   "metadata": {},
   "outputs": [],
   "source": [
    "import pandas as pd\n",
    "import numpy as np\n",
    "import matplotlib.pyplot as plt\n",
    "import glob\n",
    "%matplotlib inline"
   ]
  },
  {
   "cell_type": "code",
   "execution_count": 2,
   "metadata": {},
   "outputs": [],
   "source": [
    "# adjust path for folder with no2 csv files\n",
    "paths = glob.glob(\"*.csv\")"
   ]
  },
  {
   "cell_type": "code",
   "execution_count": 3,
   "metadata": {},
   "outputs": [],
   "source": [
    "dfs = []\n",
    "\n",
    "# read in each file\n",
    "for file in paths:\n",
    "    \n",
    "    # get year from filename\n",
    "    year = file.split(\"_\")[-1].split(\".\")[0]\n",
    "  \n",
    "    data = []\n",
    "    ofile = open(file, \"r\")\n",
    "    start = False\n",
    "    bundesland = None\n",
    "    linec = 0\n",
    "    \n",
    "    # parsing loop\n",
    "    for line in ofile:\n",
    "        linec+=1\n",
    "        # check if 'content' of file has started\n",
    "        if start == False:\n",
    "            if line.lower().startswith(\"stat\"):\n",
    "                start = True\n",
    "        else:    \n",
    "            # check if a new 'bundesland' occurs\n",
    "            if line.startswith(\"@\"):\n",
    "                bundesland = line.split(\"@\")[1]\n",
    "                if bundesland == \"\": continue\n",
    "            else:\n",
    "                # append bundesland and year to the start, then turn line into list\n",
    "                data.append((bundesland + \"@\" + year +\"@\"+line.replace(\"\\n\", \"\")).split(\"@\")[:8])\n",
    "                \n",
    "    ofile.close()\n",
    "    \n",
    "    # turn list of lists (rows) into pandas dataframe\n",
    "    dfs.append(pd.DataFrame(data, columns= [\"bundesland\", \"jahr\", \"station\", \"name\", \"umgebungstyp\", \"emissionstyp\", \"jahresmittel\", \"maxstundenwert\"]))\n",
    "    "
   ]
  },
  {
   "cell_type": "markdown",
   "metadata": {},
   "source": [
    "Checking if reading worked as intended:"
   ]
  },
  {
   "cell_type": "code",
   "execution_count": 4,
   "metadata": {},
   "outputs": [
    {
     "data": {
      "text/html": [
       "<div>\n",
       "<style scoped>\n",
       "    .dataframe tbody tr th:only-of-type {\n",
       "        vertical-align: middle;\n",
       "    }\n",
       "\n",
       "    .dataframe tbody tr th {\n",
       "        vertical-align: top;\n",
       "    }\n",
       "\n",
       "    .dataframe thead th {\n",
       "        text-align: right;\n",
       "    }\n",
       "</style>\n",
       "<table border=\"1\" class=\"dataframe\">\n",
       "  <thead>\n",
       "    <tr style=\"text-align: right;\">\n",
       "      <th></th>\n",
       "      <th>bundesland</th>\n",
       "      <th>jahr</th>\n",
       "      <th>station</th>\n",
       "      <th>name</th>\n",
       "      <th>umgebungstyp</th>\n",
       "      <th>emissionstyp</th>\n",
       "      <th>jahresmittel</th>\n",
       "      <th>maxstundenwert</th>\n",
       "    </tr>\n",
       "  </thead>\n",
       "  <tbody>\n",
       "    <tr>\n",
       "      <th>0</th>\n",
       "      <td>Brandenburg</td>\n",
       "      <td>2002</td>\n",
       "      <td>'DEBB001'</td>\n",
       "      <td>Burg (Spreewald)</td>\n",
       "      <td>vorstädtisches Gebiet</td>\n",
       "      <td>Hintergrund</td>\n",
       "      <td>10</td>\n",
       "      <td>69</td>\n",
       "    </tr>\n",
       "    <tr>\n",
       "      <th>1</th>\n",
       "      <td>Brandenburg</td>\n",
       "      <td>2002</td>\n",
       "      <td>'DEBB006'</td>\n",
       "      <td>Cottbus-Süd</td>\n",
       "      <td>städtisches Gebiet</td>\n",
       "      <td>Hintergrund</td>\n",
       "      <td>19</td>\n",
       "      <td>107</td>\n",
       "    </tr>\n",
       "    <tr>\n",
       "      <th>2</th>\n",
       "      <td>Brandenburg</td>\n",
       "      <td>2002</td>\n",
       "      <td>'DEBB009'</td>\n",
       "      <td>Forst</td>\n",
       "      <td>vorstädtisches Gebiet</td>\n",
       "      <td>Hintergrund</td>\n",
       "      <td>16</td>\n",
       "      <td>83</td>\n",
       "    </tr>\n",
       "    <tr>\n",
       "      <th>3</th>\n",
       "      <td>Brandenburg</td>\n",
       "      <td>2002</td>\n",
       "      <td>'DEBB021'</td>\n",
       "      <td>Potsdam-Zentrum</td>\n",
       "      <td>städtisches Gebiet</td>\n",
       "      <td>Hintergrund</td>\n",
       "      <td>21</td>\n",
       "      <td>111</td>\n",
       "    </tr>\n",
       "    <tr>\n",
       "      <th>4</th>\n",
       "      <td>Brandenburg</td>\n",
       "      <td>2002</td>\n",
       "      <td>'DEBB024'</td>\n",
       "      <td>Senftenberg</td>\n",
       "      <td>städtisches Gebiet</td>\n",
       "      <td>Hintergrund</td>\n",
       "      <td>19</td>\n",
       "      <td>113</td>\n",
       "    </tr>\n",
       "    <tr>\n",
       "      <th>...</th>\n",
       "      <td>...</td>\n",
       "      <td>...</td>\n",
       "      <td>...</td>\n",
       "      <td>...</td>\n",
       "      <td>...</td>\n",
       "      <td>...</td>\n",
       "      <td>...</td>\n",
       "      <td>...</td>\n",
       "    </tr>\n",
       "    <tr>\n",
       "      <th>445</th>\n",
       "      <td>UBA</td>\n",
       "      <td>2002</td>\n",
       "      <td>'DEUB038'</td>\n",
       "      <td>Aukrug</td>\n",
       "      <td>ländliches Gebiet</td>\n",
       "      <td>Hintergrund</td>\n",
       "      <td>13</td>\n",
       "      <td>65</td>\n",
       "    </tr>\n",
       "    <tr>\n",
       "      <th>446</th>\n",
       "      <td>UBA</td>\n",
       "      <td>2002</td>\n",
       "      <td>'DEUB039'</td>\n",
       "      <td>Falkenberg</td>\n",
       "      <td>ländliches Gebiet</td>\n",
       "      <td>Hintergrund</td>\n",
       "      <td>9</td>\n",
       "      <td>57</td>\n",
       "    </tr>\n",
       "    <tr>\n",
       "      <th>447</th>\n",
       "      <td>UBA</td>\n",
       "      <td>2002</td>\n",
       "      <td>'DEUB040'</td>\n",
       "      <td>Schorfheide</td>\n",
       "      <td>ländliches Gebiet</td>\n",
       "      <td>Hintergrund</td>\n",
       "      <td>8</td>\n",
       "      <td>69</td>\n",
       "    </tr>\n",
       "    <tr>\n",
       "      <th>448</th>\n",
       "      <td>UBA</td>\n",
       "      <td>2002</td>\n",
       "      <td>'DEUB041'</td>\n",
       "      <td>Raisting</td>\n",
       "      <td>ländliches Gebiet</td>\n",
       "      <td>Hintergrund</td>\n",
       "      <td>9</td>\n",
       "      <td>69</td>\n",
       "    </tr>\n",
       "    <tr>\n",
       "      <th>449</th>\n",
       "      <td>UBA</td>\n",
       "      <td>2002</td>\n",
       "      <td>'DEUB042'</td>\n",
       "      <td>Öhringen</td>\n",
       "      <td>ländliches Gebiet</td>\n",
       "      <td>Hintergrund</td>\n",
       "      <td>17</td>\n",
       "      <td>80</td>\n",
       "    </tr>\n",
       "  </tbody>\n",
       "</table>\n",
       "<p>450 rows × 8 columns</p>\n",
       "</div>"
      ],
      "text/plain": [
       "      bundesland  jahr    station              name           umgebungstyp  \\\n",
       "0    Brandenburg  2002  'DEBB001'  Burg (Spreewald)  vorstädtisches Gebiet   \n",
       "1    Brandenburg  2002  'DEBB006'       Cottbus-Süd     städtisches Gebiet   \n",
       "2    Brandenburg  2002  'DEBB009'             Forst  vorstädtisches Gebiet   \n",
       "3    Brandenburg  2002  'DEBB021'   Potsdam-Zentrum     städtisches Gebiet   \n",
       "4    Brandenburg  2002  'DEBB024'      Senftenberg      städtisches Gebiet   \n",
       "..           ...   ...        ...               ...                    ...   \n",
       "445          UBA  2002  'DEUB038'            Aukrug      ländliches Gebiet   \n",
       "446          UBA  2002  'DEUB039'        Falkenberg      ländliches Gebiet   \n",
       "447          UBA  2002  'DEUB040'       Schorfheide      ländliches Gebiet   \n",
       "448          UBA  2002  'DEUB041'          Raisting      ländliches Gebiet   \n",
       "449          UBA  2002  'DEUB042'          Öhringen      ländliches Gebiet   \n",
       "\n",
       "    emissionstyp jahresmittel maxstundenwert  \n",
       "0    Hintergrund           10             69  \n",
       "1    Hintergrund           19            107  \n",
       "2    Hintergrund           16             83  \n",
       "3    Hintergrund           21            111  \n",
       "4    Hintergrund           19            113  \n",
       "..           ...          ...            ...  \n",
       "445  Hintergrund           13             65  \n",
       "446  Hintergrund            9             57  \n",
       "447  Hintergrund            8             69  \n",
       "448  Hintergrund            9             69  \n",
       "449  Hintergrund           17             80  \n",
       "\n",
       "[450 rows x 8 columns]"
      ]
     },
     "execution_count": 4,
     "metadata": {},
     "output_type": "execute_result"
    }
   ],
   "source": [
    "dfs[0].head()"
   ]
  },
  {
   "cell_type": "code",
   "execution_count": 5,
   "metadata": {
    "scrolled": true
   },
   "outputs": [
    {
     "data": {
      "text/html": [
       "<div>\n",
       "<style scoped>\n",
       "    .dataframe tbody tr th:only-of-type {\n",
       "        vertical-align: middle;\n",
       "    }\n",
       "\n",
       "    .dataframe tbody tr th {\n",
       "        vertical-align: top;\n",
       "    }\n",
       "\n",
       "    .dataframe thead th {\n",
       "        text-align: right;\n",
       "    }\n",
       "</style>\n",
       "<table border=\"1\" class=\"dataframe\">\n",
       "  <thead>\n",
       "    <tr style=\"text-align: right;\">\n",
       "      <th></th>\n",
       "      <th>bundesland</th>\n",
       "      <th>jahr</th>\n",
       "      <th>station</th>\n",
       "      <th>name</th>\n",
       "      <th>umgebungstyp</th>\n",
       "      <th>emissionstyp</th>\n",
       "      <th>jahresmittel</th>\n",
       "      <th>maxstundenwert</th>\n",
       "    </tr>\n",
       "  </thead>\n",
       "  <tbody>\n",
       "    <tr>\n",
       "      <th>1</th>\n",
       "      <td>Baden-Württemberg</td>\n",
       "      <td>2018</td>\n",
       "      <td>DEBW219</td>\n",
       "      <td>Backnang Eugen-Adolff-Straße</td>\n",
       "      <td>städtisches Gebiet</td>\n",
       "      <td>Verkehr</td>\n",
       "      <td>49</td>\n",
       "      <td>--- 1)</td>\n",
       "    </tr>\n",
       "    <tr>\n",
       "      <th>3</th>\n",
       "      <td>Baden-Württemberg</td>\n",
       "      <td>2018</td>\n",
       "      <td>DEBW213</td>\n",
       "      <td>Balingen Schömberger Straße</td>\n",
       "      <td>vorstädtisches Gebiet</td>\n",
       "      <td>Verkehr</td>\n",
       "      <td>31</td>\n",
       "      <td>--- 1)</td>\n",
       "    </tr>\n",
       "    <tr>\n",
       "      <th>7</th>\n",
       "      <td>Baden-Württemberg</td>\n",
       "      <td>2018</td>\n",
       "      <td>DEBW220</td>\n",
       "      <td>Esslingen Grabbrunnenstraße</td>\n",
       "      <td>städtisches Gebiet</td>\n",
       "      <td>Verkehr</td>\n",
       "      <td>45</td>\n",
       "      <td>--- 1)</td>\n",
       "    </tr>\n",
       "    <tr>\n",
       "      <th>11</th>\n",
       "      <td>Baden-Württemberg</td>\n",
       "      <td>2018</td>\n",
       "      <td>DEBW226</td>\n",
       "      <td>Friedrichshafen Maybachstraße</td>\n",
       "      <td>städtisches Gebiet</td>\n",
       "      <td>Verkehr</td>\n",
       "      <td>39</td>\n",
       "      <td>--- 1)</td>\n",
       "    </tr>\n",
       "    <tr>\n",
       "      <th>14</th>\n",
       "      <td>Baden-Württemberg</td>\n",
       "      <td>2018</td>\n",
       "      <td>DEBW151</td>\n",
       "      <td>Heidelberg Mittermaierstraße</td>\n",
       "      <td>städtisches Gebiet</td>\n",
       "      <td>Verkehr</td>\n",
       "      <td>38</td>\n",
       "      <td>--- 1)</td>\n",
       "    </tr>\n",
       "    <tr>\n",
       "      <th>...</th>\n",
       "      <td>...</td>\n",
       "      <td>...</td>\n",
       "      <td>...</td>\n",
       "      <td>...</td>\n",
       "      <td>...</td>\n",
       "      <td>...</td>\n",
       "      <td>...</td>\n",
       "      <td>...</td>\n",
       "    </tr>\n",
       "    <tr>\n",
       "      <th>512</th>\n",
       "      <td>Thüringen</td>\n",
       "      <td>2018</td>\n",
       "      <td>DETH098</td>\n",
       "      <td>Gera Theaterstr. PS</td>\n",
       "      <td>städtisches Gebiet</td>\n",
       "      <td>Verkehr</td>\n",
       "      <td>32</td>\n",
       "      <td>--- 1)</td>\n",
       "    </tr>\n",
       "    <tr>\n",
       "      <th>516</th>\n",
       "      <td>Thüringen</td>\n",
       "      <td>2018</td>\n",
       "      <td>DETH075</td>\n",
       "      <td>Jena Westbahnhofstr.</td>\n",
       "      <td>städtisches Gebiet</td>\n",
       "      <td>Verkehr</td>\n",
       "      <td>29</td>\n",
       "      <td>--- 1)</td>\n",
       "    </tr>\n",
       "    <tr>\n",
       "      <th>518</th>\n",
       "      <td>Thüringen</td>\n",
       "      <td>2018</td>\n",
       "      <td>DETH100</td>\n",
       "      <td>Mühlhausen Petristeinweg</td>\n",
       "      <td>städtisches Gebiet</td>\n",
       "      <td>Verkehr</td>\n",
       "      <td>36</td>\n",
       "      <td>--- 1)</td>\n",
       "    </tr>\n",
       "    <tr>\n",
       "      <th>524</th>\n",
       "      <td>Thüringen</td>\n",
       "      <td>2018</td>\n",
       "      <td>DETH102</td>\n",
       "      <td>Suhl Dr.Th.-Neubauer-Str.</td>\n",
       "      <td>städtisches Gebiet</td>\n",
       "      <td>Verkehr</td>\n",
       "      <td>32</td>\n",
       "      <td>--- 1)</td>\n",
       "    </tr>\n",
       "    <tr>\n",
       "      <th>526</th>\n",
       "      <td>Thüringen</td>\n",
       "      <td>2018</td>\n",
       "      <td>DETH101</td>\n",
       "      <td>Weimar Jenaer Str.</td>\n",
       "      <td>städtisches Gebiet</td>\n",
       "      <td>Verkehr</td>\n",
       "      <td>32</td>\n",
       "      <td>--- 1)</td>\n",
       "    </tr>\n",
       "  </tbody>\n",
       "</table>\n",
       "<p>137 rows × 8 columns</p>\n",
       "</div>"
      ],
      "text/plain": [
       "            bundesland  jahr  station                           name  \\\n",
       "1    Baden-Württemberg  2018  DEBW219   Backnang Eugen-Adolff-Straße   \n",
       "3    Baden-Württemberg  2018  DEBW213    Balingen Schömberger Straße   \n",
       "7    Baden-Württemberg  2018  DEBW220    Esslingen Grabbrunnenstraße   \n",
       "11   Baden-Württemberg  2018  DEBW226  Friedrichshafen Maybachstraße   \n",
       "14   Baden-Württemberg  2018  DEBW151   Heidelberg Mittermaierstraße   \n",
       "..                 ...   ...      ...                            ...   \n",
       "512          Thüringen  2018  DETH098            Gera Theaterstr. PS   \n",
       "516          Thüringen  2018  DETH075           Jena Westbahnhofstr.   \n",
       "518          Thüringen  2018  DETH100       Mühlhausen Petristeinweg   \n",
       "524          Thüringen  2018  DETH102      Suhl Dr.Th.-Neubauer-Str.   \n",
       "526          Thüringen  2018  DETH101             Weimar Jenaer Str.   \n",
       "\n",
       "              umgebungstyp emissionstyp jahresmittel maxstundenwert  \n",
       "1       städtisches Gebiet      Verkehr           49         --- 1)  \n",
       "3    vorstädtisches Gebiet      Verkehr           31         --- 1)  \n",
       "7       städtisches Gebiet      Verkehr           45         --- 1)  \n",
       "11      städtisches Gebiet      Verkehr           39         --- 1)  \n",
       "14      städtisches Gebiet      Verkehr           38         --- 1)  \n",
       "..                     ...          ...          ...            ...  \n",
       "512     städtisches Gebiet      Verkehr           32         --- 1)  \n",
       "516     städtisches Gebiet      Verkehr           29         --- 1)  \n",
       "518     städtisches Gebiet      Verkehr           36         --- 1)  \n",
       "524     städtisches Gebiet      Verkehr           32         --- 1)  \n",
       "526     städtisches Gebiet      Verkehr           32         --- 1)  \n",
       "\n",
       "[137 rows x 8 columns]"
      ]
     },
     "execution_count": 5,
     "metadata": {},
     "output_type": "execute_result"
    }
   ],
   "source": [
    "dfs[16][dfs[16][\"maxstundenwert\"].str.contains(\"-\")].head()"
   ]
  },
  {
   "cell_type": "markdown",
   "metadata": {},
   "source": [
    "Some weird values in \"maxstundenwert\", however this column will not be used for analysis, so no need for cleaning."
   ]
  },
  {
   "cell_type": "code",
   "execution_count": 6,
   "metadata": {},
   "outputs": [
    {
     "data": {
      "text/plain": [
       "18"
      ]
     },
     "execution_count": 6,
     "metadata": {},
     "output_type": "execute_result"
    }
   ],
   "source": [
    "len(dfs)"
   ]
  },
  {
   "cell_type": "markdown",
   "metadata": {},
   "source": [
    "All files succesfully turned into pd.DataFrame.\n",
    "\n",
    "Merging individual dataframes to a complete one, individual files identifyable via 'jahr' column."
   ]
  },
  {
   "cell_type": "code",
   "execution_count": 7,
   "metadata": {},
   "outputs": [],
   "source": [
    "stickstoff = pd.concat(dfs, ignore_index = True)"
   ]
  },
  {
   "cell_type": "code",
   "execution_count": 79,
   "metadata": {
    "scrolled": false
   },
   "outputs": [
    {
     "data": {
      "text/html": [
       "<div>\n",
       "<style scoped>\n",
       "    .dataframe tbody tr th:only-of-type {\n",
       "        vertical-align: middle;\n",
       "    }\n",
       "\n",
       "    .dataframe tbody tr th {\n",
       "        vertical-align: top;\n",
       "    }\n",
       "\n",
       "    .dataframe thead th {\n",
       "        text-align: right;\n",
       "    }\n",
       "</style>\n",
       "<table border=\"1\" class=\"dataframe\">\n",
       "  <thead>\n",
       "    <tr style=\"text-align: right;\">\n",
       "      <th></th>\n",
       "      <th>bundesland</th>\n",
       "      <th>jahr</th>\n",
       "      <th>station</th>\n",
       "      <th>name</th>\n",
       "      <th>umgebungstyp</th>\n",
       "      <th>emissionstyp</th>\n",
       "      <th>jahresmittel</th>\n",
       "      <th>maxstundenwert</th>\n",
       "      <th>umgebungstyp_grob</th>\n",
       "    </tr>\n",
       "  </thead>\n",
       "  <tbody>\n",
       "    <tr>\n",
       "      <th>0</th>\n",
       "      <td>BRANDENBURG</td>\n",
       "      <td>2002</td>\n",
       "      <td>'DEBB001'</td>\n",
       "      <td>BURG (SPREEWALD)</td>\n",
       "      <td>vorstädtisches Gebiet</td>\n",
       "      <td>Hintergrund</td>\n",
       "      <td>10.0</td>\n",
       "      <td>69</td>\n",
       "      <td>vorstädtisch</td>\n",
       "    </tr>\n",
       "    <tr>\n",
       "      <th>1</th>\n",
       "      <td>BRANDENBURG</td>\n",
       "      <td>2002</td>\n",
       "      <td>'DEBB006'</td>\n",
       "      <td>COTTBUS-SÜD</td>\n",
       "      <td>städtisches Gebiet</td>\n",
       "      <td>Hintergrund</td>\n",
       "      <td>19.0</td>\n",
       "      <td>107</td>\n",
       "      <td>städtisch</td>\n",
       "    </tr>\n",
       "    <tr>\n",
       "      <th>2</th>\n",
       "      <td>BRANDENBURG</td>\n",
       "      <td>2002</td>\n",
       "      <td>'DEBB009'</td>\n",
       "      <td>FORST</td>\n",
       "      <td>vorstädtisches Gebiet</td>\n",
       "      <td>Hintergrund</td>\n",
       "      <td>16.0</td>\n",
       "      <td>83</td>\n",
       "      <td>vorstädtisch</td>\n",
       "    </tr>\n",
       "    <tr>\n",
       "      <th>3</th>\n",
       "      <td>BRANDENBURG</td>\n",
       "      <td>2002</td>\n",
       "      <td>'DEBB021'</td>\n",
       "      <td>POTSDAM-ZENTRUM</td>\n",
       "      <td>städtisches Gebiet</td>\n",
       "      <td>Hintergrund</td>\n",
       "      <td>21.0</td>\n",
       "      <td>111</td>\n",
       "      <td>städtisch</td>\n",
       "    </tr>\n",
       "    <tr>\n",
       "      <th>4</th>\n",
       "      <td>BRANDENBURG</td>\n",
       "      <td>2002</td>\n",
       "      <td>'DEBB024'</td>\n",
       "      <td>SENFTENBERG</td>\n",
       "      <td>städtisches Gebiet</td>\n",
       "      <td>Hintergrund</td>\n",
       "      <td>19.0</td>\n",
       "      <td>113</td>\n",
       "      <td>städtisch</td>\n",
       "    </tr>\n",
       "  </tbody>\n",
       "</table>\n",
       "</div>"
      ],
      "text/plain": [
       "    bundesland  jahr    station              name           umgebungstyp  \\\n",
       "0  BRANDENBURG  2002  'DEBB001'  BURG (SPREEWALD)  vorstädtisches Gebiet   \n",
       "1  BRANDENBURG  2002  'DEBB006'       COTTBUS-SÜD     städtisches Gebiet   \n",
       "2  BRANDENBURG  2002  'DEBB009'             FORST  vorstädtisches Gebiet   \n",
       "3  BRANDENBURG  2002  'DEBB021'   POTSDAM-ZENTRUM     städtisches Gebiet   \n",
       "4  BRANDENBURG  2002  'DEBB024'      SENFTENBERG      städtisches Gebiet   \n",
       "\n",
       "  emissionstyp  jahresmittel maxstundenwert umgebungstyp_grob  \n",
       "0  Hintergrund          10.0             69      vorstädtisch  \n",
       "1  Hintergrund          19.0            107         städtisch  \n",
       "2  Hintergrund          16.0             83      vorstädtisch  \n",
       "3  Hintergrund          21.0            111         städtisch  \n",
       "4  Hintergrund          19.0            113         städtisch  "
      ]
     },
     "execution_count": 79,
     "metadata": {},
     "output_type": "execute_result"
    }
   ],
   "source": [
    "stickstoff.head()"
   ]
  },
  {
   "cell_type": "markdown",
   "metadata": {},
   "source": [
    "* checking values of most interesting column 'jahresmittel'"
   ]
  },
  {
   "cell_type": "code",
   "execution_count": 9,
   "metadata": {},
   "outputs": [
    {
     "data": {
      "text/plain": [
       "array(['10', '19', '16', '21', '14', '12', '15', '20', '17', '13', '43',\n",
       "       '46', '7', '27', '29', '54', '23', '18', '30', '35', '24', '55',\n",
       "       '64', '49', '47', '41', '34', '25', '33', '32', '37', '38', '22',\n",
       "       '28', '5', '26', '63', '8', '45', '44', '53', '75', '42', '40',\n",
       "       '62', '52', '36', '56', '39', '48', '31', '11', '2', '66', '59',\n",
       "       '58', '67', '65', '50', '60', '9', '4', '51', '61', '57', '80',\n",
       "       '68', '3', '74', '72', '69', '6', '77', '70', '76', '92', '82',\n",
       "       '78', '104', '121', '93', '71', '79', '98', '81', '106', '91',\n",
       "       '85', '89', '88', '86', '112', '109', '73', '95', '100', '99',\n",
       "       '84', '6,4', '4,3', '90', '97', '7,2', '8,6', '8,9', '8,8', '7,5',\n",
       "       '7,8', '8,4', '5,7', '8,7', '8,5', '7,7', '6,3', '5,4', '4,7',\n",
       "       '9,5', '7,6', '9,8', '5,8', '8,2', '8,1', '1,8', '4,6', '6,7',\n",
       "       '6,6', '83', '87', '-999', '45 2)', '47 2)', '42 2)', '41 2)',\n",
       "       '48 2)', '50 2)'], dtype=object)"
      ]
     },
     "execution_count": 9,
     "metadata": {},
     "output_type": "execute_result"
    }
   ],
   "source": [
    "stickstoff[\"jahresmittel\"].unique()"
   ]
  },
  {
   "cell_type": "markdown",
   "metadata": {},
   "source": [
    "* empty spaces and double numbers\n",
    "* -999 outlier / false data?\n",
    "* now removing empty space and nonsense number (e.g. 47 2)"
   ]
  },
  {
   "cell_type": "code",
   "execution_count": 10,
   "metadata": {},
   "outputs": [],
   "source": [
    "def splitit(val):\n",
    "    if \" \" in val:\n",
    "        return val.split(\" \")[0]\n",
    "    else:\n",
    "        return val\n",
    "stickstoff[\"jahresmittel\"] = stickstoff[\"jahresmittel\"].apply(splitit)"
   ]
  },
  {
   "cell_type": "code",
   "execution_count": 11,
   "metadata": {},
   "outputs": [
    {
     "data": {
      "text/html": [
       "<div>\n",
       "<style scoped>\n",
       "    .dataframe tbody tr th:only-of-type {\n",
       "        vertical-align: middle;\n",
       "    }\n",
       "\n",
       "    .dataframe tbody tr th {\n",
       "        vertical-align: top;\n",
       "    }\n",
       "\n",
       "    .dataframe thead th {\n",
       "        text-align: right;\n",
       "    }\n",
       "</style>\n",
       "<table border=\"1\" class=\"dataframe\">\n",
       "  <thead>\n",
       "    <tr style=\"text-align: right;\">\n",
       "      <th></th>\n",
       "      <th>bundesland</th>\n",
       "      <th>jahr</th>\n",
       "      <th>station</th>\n",
       "      <th>name</th>\n",
       "      <th>umgebungstyp</th>\n",
       "      <th>emissionstyp</th>\n",
       "      <th>jahresmittel</th>\n",
       "      <th>maxstundenwert</th>\n",
       "    </tr>\n",
       "  </thead>\n",
       "  <tbody>\n",
       "    <tr>\n",
       "      <th>6246</th>\n",
       "      <td>Hessen</td>\n",
       "      <td>2015</td>\n",
       "      <td>DEHE131</td>\n",
       "      <td>Limburg-Schiede</td>\n",
       "      <td>städtisches Gebiet</td>\n",
       "      <td>Verkehr</td>\n",
       "      <td>-999</td>\n",
       "      <td>23</td>\n",
       "    </tr>\n",
       "  </tbody>\n",
       "</table>\n",
       "</div>"
      ],
      "text/plain": [
       "     bundesland  jahr  station             name        umgebungstyp  \\\n",
       "6246     Hessen  2015  DEHE131  Limburg-Schiede  städtisches Gebiet   \n",
       "\n",
       "     emissionstyp jahresmittel maxstundenwert  \n",
       "6246      Verkehr         -999             23  "
      ]
     },
     "execution_count": 11,
     "metadata": {},
     "output_type": "execute_result"
    }
   ],
   "source": [
    "stickstoff[stickstoff[\"jahresmittel\"]==\"-999\"]"
   ]
  },
  {
   "cell_type": "markdown",
   "metadata": {},
   "source": [
    "* replace , (comma) with . (dot) for easy type casting"
   ]
  },
  {
   "cell_type": "code",
   "execution_count": 12,
   "metadata": {},
   "outputs": [],
   "source": [
    "stickstoff[\"jahresmittel\"] = stickstoff[\"jahresmittel\"].str.replace(\",\",\".\")"
   ]
  },
  {
   "cell_type": "markdown",
   "metadata": {},
   "source": [
    "* cast column to float"
   ]
  },
  {
   "cell_type": "code",
   "execution_count": 13,
   "metadata": {},
   "outputs": [],
   "source": [
    "stickstoff[\"jahresmittel\"] = stickstoff[\"jahresmittel\"].astype(float)"
   ]
  },
  {
   "cell_type": "markdown",
   "metadata": {},
   "source": [
    "* drop row with extreme outlier -999"
   ]
  },
  {
   "cell_type": "code",
   "execution_count": 20,
   "metadata": {},
   "outputs": [],
   "source": [
    "stickstoff.drop(6246, axis=0, inplace = True)"
   ]
  },
  {
   "cell_type": "markdown",
   "metadata": {},
   "source": [
    "### Visualising data\n",
    "\n",
    "* getting a quick overview of the data\n",
    "* aggregate over years and plot mean jahresmittel values"
   ]
  },
  {
   "cell_type": "code",
   "execution_count": 21,
   "metadata": {},
   "outputs": [],
   "source": [
    "mean = stickstoff.groupby(\"jahr\").agg(\"mean\")"
   ]
  },
  {
   "cell_type": "code",
   "execution_count": 22,
   "metadata": {
    "scrolled": true
   },
   "outputs": [
    {
     "data": {
      "text/plain": [
       "Text(0, 0.5, 'Stickstoff-Wert')"
      ]
     },
     "execution_count": 22,
     "metadata": {},
     "output_type": "execute_result"
    },
    {
     "data": {
      "image/png": "[encoded data removed]",
      "text/plain": [
       "<Figure size 432x288 with 1 Axes>"
      ]
     },
     "metadata": {
      "needs_background": "light"
     },
     "output_type": "display_data"
    }
   ],
   "source": [
    "ax = mean.plot(ylim=(0,60))\n",
    "ax.set_ylabel(\"Stickstoff-Wert\")"
   ]
  },
  {
   "cell_type": "markdown",
   "metadata": {},
   "source": [
    "* Check values one more time"
   ]
  },
  {
   "cell_type": "code",
   "execution_count": 23,
   "metadata": {},
   "outputs": [
    {
     "data": {
      "text/plain": [
       "array([121. , 112. , 109. , 106. , 104. , 100. ,  99. ,  98. ,  97. ,\n",
       "        95. ,  93. ,  92. ,  91. ,  90. ,  89. ,  88. ,  87. ,  86. ,\n",
       "        85. ,  84. ,  83. ,  82. ,  81. ,  80. ,  79. ,  78. ,  77. ,\n",
       "        76. ,  75. ,  74. ,  73. ,  72. ,  71. ,  70. ,  69. ,  68. ,\n",
       "        67. ,  66. ,  65. ,  64. ,  63. ,  62. ,  61. ,  60. ,  59. ,\n",
       "        58. ,  57. ,  56. ,  55. ,  54. ,  53. ,  52. ,  51. ,  50. ,\n",
       "        49. ,  48. ,  47. ,  46. ,  45. ,  44. ,  43. ,  42. ,  41. ,\n",
       "        40. ,  39. ,  38. ,  37. ,  36. ,  35. ,  34. ,  33. ,  32. ,\n",
       "        31. ,  30. ,  29. ,  28. ,  27. ,  26. ,  25. ,  24. ,  23. ,\n",
       "        22. ,  21. ,  20. ,  19. ,  18. ,  17. ,  16. ,  15. ,  14. ,\n",
       "        13. ,  12. ,  11. ,  10. ,   9.8,   9.5,   9. ,   8.9,   8.8,\n",
       "         8.7,   8.6,   8.5,   8.4,   8.2,   8.1,   8. ,   7.8,   7.7,\n",
       "         7.6,   7.5,   7.2,   7. ,   6.7,   6.6,   6.4,   6.3,   6. ,\n",
       "         5.8,   5.7,   5.4,   5. ,   4.7,   4.6,   4.3,   4. ,   3. ,\n",
       "         2. ,   1.8])"
      ]
     },
     "execution_count": 23,
     "metadata": {},
     "output_type": "execute_result"
    }
   ],
   "source": [
    "stickstoff[\"jahresmittel\"].sort_values(ascending=False).unique()"
   ]
  },
  {
   "cell_type": "markdown",
   "metadata": {},
   "source": [
    "### Cleaning 'umgebungstyp' column\n",
    "\n",
    "* check individual values for umgebungstyp\n",
    "* group multiple similar categories into one"
   ]
  },
  {
   "cell_type": "code",
   "execution_count": 25,
   "metadata": {
    "scrolled": true
   },
   "outputs": [
    {
     "data": {
      "text/plain": [
       "array(['vorstädtisches Gebiet', 'städtisches Gebiet', 'ländlich regional',\n",
       "       'ländlich stadtnah', 'ländliches Gebiet', 'ländlich Hintergrund',\n",
       "       'ländlich abgelegen', 'ländliches regional', 'ländlich reginal',\n",
       "       'ländliches stadtnah', 'städtisches Gebiet '], dtype=object)"
      ]
     },
     "execution_count": 25,
     "metadata": {},
     "output_type": "execute_result"
    }
   ],
   "source": [
    "stickstoff[\"umgebungstyp\"].unique()"
   ]
  },
  {
   "cell_type": "markdown",
   "metadata": {},
   "source": [
    "Clean column to use homogenous vocabulary: \n",
    "* ländlich vs ländliches \n",
    "* fixing errors like 'reginal'\n",
    "* stripping unnecessary space characters"
   ]
  },
  {
   "cell_type": "code",
   "execution_count": 26,
   "metadata": {},
   "outputs": [],
   "source": [
    "stickstoff[\"umgebungstyp\"] = stickstoff[\"umgebungstyp\"].str.strip(\" \").str.replace(\"reginal\",\"regional\").str.replace(\"ländliches\",\"ländlich\")"
   ]
  },
  {
   "cell_type": "markdown",
   "metadata": {},
   "source": [
    "Group up similar values into the same category:"
   ]
  },
  {
   "cell_type": "code",
   "execution_count": 27,
   "metadata": {},
   "outputs": [],
   "source": [
    "def group_up(val):\n",
    "    if \"länd\" in val:\n",
    "        return \"ländlich\"\n",
    "    elif \"vorst\" in val:\n",
    "        return \"vorstädtisch\"\n",
    "    else:\n",
    "        return \"städtisch\""
   ]
  },
  {
   "cell_type": "code",
   "execution_count": 28,
   "metadata": {},
   "outputs": [],
   "source": [
    "stickstoff[\"umgebungstyp_grob\"] = stickstoff[\"umgebungstyp\"].apply(group_up)"
   ]
  },
  {
   "cell_type": "code",
   "execution_count": 29,
   "metadata": {
    "scrolled": true
   },
   "outputs": [
    {
     "data": {
      "text/plain": [
       "array(['vorstädtisch', 'städtisch', 'ländlich'], dtype=object)"
      ]
     },
     "execution_count": 29,
     "metadata": {},
     "output_type": "execute_result"
    }
   ],
   "source": [
    "stickstoff[\"umgebungstyp_grob\"].unique()"
   ]
  },
  {
   "cell_type": "markdown",
   "metadata": {},
   "source": [
    "* new column \"umgebungstyp_grob\" \n",
    "* easier to work with, still contains most important information\n",
    "\n",
    "#### Visualising the nitrogen values for different environmental values\n",
    "\n",
    "* now aggregate mean nitrogen values over the years for individual categories\n",
    "* städtisch, vorstädtisch, ländlich"
   ]
  },
  {
   "cell_type": "code",
   "execution_count": 30,
   "metadata": {},
   "outputs": [],
   "source": [
    "mean = stickstoff.groupby([\"jahr\", \"umgebungstyp_grob\"]).agg(\"mean\")"
   ]
  },
  {
   "cell_type": "code",
   "execution_count": 31,
   "metadata": {},
   "outputs": [],
   "source": [
    "mean_st = stickstoff[stickstoff[\"umgebungstyp_grob\"] == \"städtisch\"].groupby(\"jahr\").agg(\"mean\")"
   ]
  },
  {
   "cell_type": "code",
   "execution_count": 32,
   "metadata": {},
   "outputs": [],
   "source": [
    "mean_vs = stickstoff[stickstoff[\"umgebungstyp_grob\"] == \"vorstädtisch\"].groupby(\"jahr\").agg(\"mean\")"
   ]
  },
  {
   "cell_type": "code",
   "execution_count": 33,
   "metadata": {},
   "outputs": [],
   "source": [
    "mean_la = stickstoff[stickstoff[\"umgebungstyp_grob\"] == \"ländlich\"].groupby(\"jahr\").agg(\"mean\")"
   ]
  },
  {
   "cell_type": "code",
   "execution_count": 64,
   "metadata": {},
   "outputs": [
    {
     "data": {
      "image/png": "[encoded data removed]",
      "text/plain": [
       "<Figure size 432x288 with 1 Axes>"
      ]
     },
     "metadata": {
      "needs_background": "light"
     },
     "output_type": "display_data"
    }
   ],
   "source": [
    "plt.plot(mean_st)\n",
    "plt.plot(mean_vs)\n",
    "plt.plot(mean_la)\n",
    "plt.title(\"Nitrogen values based on environment of measurement station\")\n",
    "plt.xlabel(\"year\")\n",
    "plt.ylabel(\"nitrogen level (µg/m³)\")\n",
    "plt.xticks(rotation=\"vertical\")\n",
    "colors = plt.rcParams['axes.prop_cycle'].by_key()['color']\n",
    "plt.text(0,32,\"städtisch\", color=colors[0])\n",
    "plt.text(0,20,\"vorstädtisch\", color=colors[1])\n",
    "plt.text(0,10,\"ländlich\", color=colors[2])"
   ]
  },
  {
   "cell_type": "markdown",
   "metadata": {},
   "source": [
    "As expected, \"städtisch\" has the highest values followed by \"vorstädtisch\" and with \"ländlich\" having the lowest"
   ]
  },
  {
   "cell_type": "markdown",
   "metadata": {},
   "source": [
    "### Cleaning of 'bundesland' column\n",
    "\n",
    "To merge this dataframe with other data, the bundesland column needs to be uniform\n",
    "* first check the unique values"
   ]
  },
  {
   "cell_type": "code",
   "execution_count": 66,
   "metadata": {
    "scrolled": true
   },
   "outputs": [
    {
     "data": {
      "text/plain": [
       "array(['Brandenburg', 'Berlin', 'Baden-Württemberg', 'Bayern', 'Bremen',\n",
       "       'Hessen', 'Hamburg', 'Mecklenburg-Vorpommern', 'Niedersachsen',\n",
       "       'Nordrrhein-Westfalen', 'Rheinland-Pfalz', 'Schleswig-Holstein',\n",
       "       'Saarland', 'Sachsen', 'Sachsen-Anhalt', 'Thüringen', 'UBA',\n",
       "       'Nordrhein-Westfalen', 'Umweltbundesamt'], dtype=object)"
      ]
     },
     "execution_count": 66,
     "metadata": {},
     "output_type": "execute_result"
    }
   ],
   "source": [
    "stickstoff[\"bundesland\"].unique()"
   ]
  },
  {
   "cell_type": "markdown",
   "metadata": {},
   "source": [
    "* check umweltbundesamt"
   ]
  },
  {
   "cell_type": "code",
   "execution_count": 67,
   "metadata": {},
   "outputs": [
    {
     "data": {
      "text/plain": [
       "(78, 9)"
      ]
     },
     "execution_count": 67,
     "metadata": {},
     "output_type": "execute_result"
    }
   ],
   "source": [
    "stickstoff[stickstoff[\"bundesland\"] == \"UBA\"].shape"
   ]
  },
  {
   "cell_type": "code",
   "execution_count": 68,
   "metadata": {
    "scrolled": true
   },
   "outputs": [
    {
     "data": {
      "text/plain": [
       "(79, 9)"
      ]
     },
     "execution_count": 68,
     "metadata": {},
     "output_type": "execute_result"
    }
   ],
   "source": [
    "stickstoff[stickstoff[\"bundesland\"] == \"Umweltbundesamt\"].shape"
   ]
  },
  {
   "cell_type": "markdown",
   "metadata": {},
   "source": [
    "* Replace 'Ü' with 'UE' in Bundesland, to conform it to other dataset\n",
    "* turn to uppercase"
   ]
  },
  {
   "cell_type": "code",
   "execution_count": 69,
   "metadata": {},
   "outputs": [],
   "source": [
    "stickstoff[\"bundesland\"] = stickstoff[\"bundesland\"].str.upper().str.replace(\"Ü\", \"UE\")"
   ]
  },
  {
   "cell_type": "code",
   "execution_count": 70,
   "metadata": {
    "scrolled": true
   },
   "outputs": [
    {
     "data": {
      "text/plain": [
       "array(['BRANDENBURG', 'BERLIN', 'BADEN-WUERTTEMBERG', 'BAYERN', 'BREMEN',\n",
       "       'HESSEN', 'HAMBURG', 'MECKLENBURG-VORPOMMERN', 'NIEDERSACHSEN',\n",
       "       'NORDRRHEIN-WESTFALEN', 'RHEINLAND-PFALZ', 'SCHLESWIG-HOLSTEIN',\n",
       "       'SAARLAND', 'SACHSEN', 'SACHSEN-ANHALT', 'THUERINGEN', 'UBA',\n",
       "       'NORDRHEIN-WESTFALEN', 'UMWELTBUNDESAMT'], dtype=object)"
      ]
     },
     "execution_count": 70,
     "metadata": {},
     "output_type": "execute_result"
    }
   ],
   "source": [
    "stickstoff[\"bundesland\"].unique()"
   ]
  },
  {
   "cell_type": "markdown",
   "metadata": {},
   "source": [
    "* see if bundesländer are the same"
   ]
  },
  {
   "cell_type": "code",
   "execution_count": 73,
   "metadata": {},
   "outputs": [],
   "source": [
    "# tester is directly copied from the other data import \n",
    "tester = \"BADEN-WUERTTEMBERG,BAYERN,BERLIN,BRANDENBURG,BREMEN,HAMBURG,HESSEN,MECKLENBURG-VORPOMMERN,NIEDERSACHSEN,NORDRHEIN-WESTFALEN,RHEINLAND-PFALZ,SAARLAND,SACHSEN,SACHSEN-ANHALT,SCHLESWIG-HOLSTEIN,THUERINGEN\""
   ]
  },
  {
   "cell_type": "code",
   "execution_count": 74,
   "metadata": {
    "scrolled": true
   },
   "outputs": [
    {
     "name": "stdout",
     "output_type": "stream",
     "text": [
      "NORDRRHEIN-WESTFALEN\n",
      "UBA\n",
      "UMWELTBUNDESAMT\n"
     ]
    }
   ],
   "source": [
    "for land in stickstoff[\"bundesland\"].unique():\n",
    "    if land not in tester.split(\",\"):\n",
    "        print(land)"
   ]
  },
  {
   "cell_type": "markdown",
   "metadata": {},
   "source": [
    "* UBA and Umweltbundesamt not present in other data --> will get lost in merge\n",
    "* typo in nordrhein-westfalen, correcting:"
   ]
  },
  {
   "cell_type": "code",
   "execution_count": 75,
   "metadata": {},
   "outputs": [],
   "source": [
    "stickstoff[\"bundesland\"] = stickstoff[\"bundesland\"].str.replace(\"NORDRRHEIN\", \"NORDRHEIN\")"
   ]
  },
  {
   "cell_type": "markdown",
   "metadata": {},
   "source": [
    "Names are usually (but not always) the Street name the station location. This may be used for further merging and identification of exact locations of nitrogen values.\n",
    "\n",
    "* translate to 'better' names for matching with other dataset\n",
    "* turn to uppercase\n",
    "* replace 'Umlaute'"
   ]
  },
  {
   "cell_type": "code",
   "execution_count": 76,
   "metadata": {},
   "outputs": [],
   "source": [
    "def translate(val):\n",
    "    val1 = val.replace(\"Ä\",\"AE\").replace(\"Ö\", \"OE\").replace(\"Ü\", \"UE\")\n",
    "    val1 = val1.upper()\n",
    "    return val1\n",
    "\n",
    "stickstoff[\"name\"] = stickstoff[\"name\"].apply(translate)"
   ]
  },
  {
   "cell_type": "code",
   "execution_count": 77,
   "metadata": {
    "scrolled": true
   },
   "outputs": [
    {
     "data": {
      "text/plain": [
       "0       BURG (SPREEWALD)\n",
       "1            COTTBUS-SÜD\n",
       "2                  FORST\n",
       "3        POTSDAM-ZENTRUM\n",
       "4           SENFTENBERG \n",
       "              ...       \n",
       "8681        SCHAUINSLAND\n",
       "8682            SCHMÜCKE\n",
       "8683             WALDHOF\n",
       "8684          WESTERLAND\n",
       "8685              ZINGST\n",
       "Name: name, Length: 8684, dtype: object"
      ]
     },
     "execution_count": 77,
     "metadata": {},
     "output_type": "execute_result"
    }
   ],
   "source": [
    "stickstoff[\"name\"]"
   ]
  },
  {
   "cell_type": "markdown",
   "metadata": {},
   "source": [
    "#### Save data\n",
    "\n",
    "* for easier import the Dataframe will be saved as pkl (pickle) file"
   ]
  },
  {
   "cell_type": "code",
   "execution_count": 78,
   "metadata": {},
   "outputs": [],
   "source": [
    "stickstoff.to_pickle(\"stickstoff_daten.pkl\")"
   ]
  },
  {
   "cell_type": "code",
   "execution_count": null,
   "metadata": {},
   "outputs": [],
   "source": []
  }
 ],
 "metadata": {
  "anaconda-cloud": {},
  "kernelspec": {
   "display_name": "Python 3",
   "language": "python",
   "name": "python3"
  },
  "language_info": {
   "codemirror_mode": {
    "name": "ipython",
    "version": 3
   },
   "file_extension": ".py",
   "mimetype": "text/x-python",
   "name": "python",
   "nbconvert_exporter": "python",
   "pygments_lexer": "ipython3",
   "version": "3.7.6"
  }
 },
 "nbformat": 4,
 "nbformat_minor": 4
}
